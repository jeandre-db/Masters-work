{
 "cells": [
  {
   "cell_type": "code",
   "execution_count": 45,
   "id": "9521431d-c0e6-4b7a-a505-32a18ec7db10",
   "metadata": {},
   "outputs": [],
   "source": [
    "import requests\n",
    "import pymongo\n",
    "from pymongo import MongoClient\n",
    "from collections import OrderedDict\n",
    "from pprint import pprint"
   ]
  },
  {
   "cell_type": "code",
   "execution_count": 12,
   "id": "68e12dbb-b36f-4aa8-b66d-ebb1a7ee8218",
   "metadata": {},
   "outputs": [],
   "source": [
    "url = \"https://us-ie-big-data-technologies.ew.r.appspot.com/api/v1/events\"\n",
    "headers = {\"accept\": \"application/json\"} \n",
    "params = {'collection_slug': 'cryptopunks', \n",
    "            'occurred_after': '2021-09-01T00:00:00+02:00',\n",
    "            'occurred_before':'2021-10-01T00:00:00+02:00',\n",
    "            'offset':0,\n",
    "            'limit':10000}\n",
    "response = requests.request(\"GET\",url, headers=headers, params=params)"
   ]
  },
  {
   "cell_type": "code",
   "execution_count": 13,
   "id": "001bc608-697b-458c-be77-9d773cf4fcc4",
   "metadata": {},
   "outputs": [],
   "source": [
    "api_events = response.json()['asset_events']\n",
    "#api_events"
   ]
  },
  {
   "cell_type": "code",
   "execution_count": 14,
   "id": "1a114f6b-aa10-4215-be4d-748f2baf8249",
   "metadata": {},
   "outputs": [],
   "source": [
    "client = MongoClient()"
   ]
  },
  {
   "cell_type": "code",
   "execution_count": 15,
   "id": "468aa210-0592-4cfa-abd5-4ec7a8a3b7a6",
   "metadata": {},
   "outputs": [
    {
     "data": {
      "text/plain": [
       "<pymongo.results.InsertManyResult at 0x7fd75dac9900>"
      ]
     },
     "execution_count": 15,
     "metadata": {},
     "output_type": "execute_result"
    }
   ],
   "source": [
    "database = client['chimps']\n",
    "database.drop_collection('cryptos')\n",
    "collection = database['cryptos']\n",
    "collection.insert_many(api_events)"
   ]
  },
  {
   "cell_type": "code",
   "execution_count": 19,
   "id": "d104a28b-9f13-4309-8f41-425ae54c42a2",
   "metadata": {},
   "outputs": [
    {
     "name": "stdout",
     "output_type": "stream",
     "text": [
      "Number of event transactions =  534\n"
     ]
    }
   ],
   "source": [
    "print(\"Number of event transactions = \",collection.count_documents({}))"
   ]
  },
  {
   "cell_type": "code",
   "execution_count": 24,
   "id": "e8f53ceb-2b38-468f-86dc-3edf43c47f0a",
   "metadata": {},
   "outputs": [
    {
     "data": {
      "text/plain": [
       "{'3634': '99990000000000000000',\n",
       " '8922': '99990000000000000000',\n",
       " '7633': '99980000000000000000',\n",
       " '9103': '99900000000000000000',\n",
       " '1672': '99750000000000000000',\n",
       " '3239': '99690000000000000000',\n",
       " '3533': '99500000000000000000',\n",
       " '3378': '99500000000000000000',\n",
       " '3173': '99000000000000000000',\n",
       " '4610': '99000000000000000000'}"
      ]
     },
     "execution_count": 24,
     "metadata": {},
     "output_type": "execute_result"
    }
   ],
   "source": [
    "things = {}\n",
    "results = collection.find({\"event_type\": \"successful\"}\n",
    ").sort('total_price', pymongo.DESCENDING).limit(10)\n",
    "for result in results:\n",
    "    asset = result['asset']  \n",
    "    token_id = asset['token_id']\n",
    "    price = result['total_price']\n",
    "    things[token_id] = price\n",
    "things"
   ]
  },
  {
   "cell_type": "code",
   "execution_count": 26,
   "id": "e9e9200e-96af-4c8d-ad1b-34235f50f2b1",
   "metadata": {},
   "outputs": [
    {
     "data": {
      "text/plain": [
       "395"
      ]
     },
     "execution_count": 26,
     "metadata": {},
     "output_type": "execute_result"
    }
   ],
   "source": [
    "len(collection.find({}).distinct('asset.name'))"
   ]
  },
  {
   "cell_type": "code",
   "execution_count": 41,
   "id": "8015d8c8-ade2-4d70-87c9-3b6470e07014",
   "metadata": {},
   "outputs": [],
   "source": [
    "pipeline =[\n",
    "    {\n",
    "        '$addFields': {\n",
    "            'tempdate': {\n",
    "                '$dateFromString': {\n",
    "                    'dateString': '$transaction.timestamp'\n",
    "                }\n",
    "            }\n",
    "        }\n",
    "    }, {\n",
    "        '$addFields': {\n",
    "            'year': {\n",
    "                '$year': '$tempdate'\n",
    "            }, \n",
    "            'month': {\n",
    "                '$month': '$tempdate'\n",
    "            }, \n",
    "            'day': {\n",
    "                '$dayOfYear': '$tempdate'\n",
    "            }\n",
    "        }\n",
    "    }, {\n",
    "        '$group': {\n",
    "            '_id': {\n",
    "                'year': '$year', \n",
    "                'day': '$day'\n",
    "            }, \n",
    "            'count': {\n",
    "                '$sum': 1\n",
    "            }\n",
    "        }\n",
    "    }, {\n",
    "        '$sort': {\n",
    "            'count': -1\n",
    "        }\n",
    "    }\n",
    "]"
   ]
  },
  {
   "cell_type": "code",
   "execution_count": 44,
   "id": "1afde705-5eb7-4329-9356-a55caf2951e5",
   "metadata": {},
   "outputs": [
    {
     "ename": "TypeError",
     "evalue": "'CommandCursor' object is not subscriptable",
     "output_type": "error",
     "traceback": [
      "\u001b[0;31m---------------------------------------------------------------------------\u001b[0m",
      "\u001b[0;31mTypeError\u001b[0m                                 Traceback (most recent call last)",
      "\u001b[0;32m/var/folders/8l/h0wnm3t57mnb37lcrb0hxxmw0000gn/T/ipykernel_52337/3940028864.py\u001b[0m in \u001b[0;36m<module>\u001b[0;34m\u001b[0m\n\u001b[1;32m      1\u001b[0m \u001b[0mthing\u001b[0m \u001b[0;34m=\u001b[0m \u001b[0mcollection\u001b[0m\u001b[0;34m.\u001b[0m\u001b[0maggregate\u001b[0m\u001b[0;34m(\u001b[0m\u001b[0mpipeline\u001b[0m\u001b[0;34m)\u001b[0m\u001b[0;34m\u001b[0m\u001b[0;34m\u001b[0m\u001b[0m\n\u001b[0;32m----> 2\u001b[0;31m \u001b[0mthing\u001b[0m\u001b[0;34m[\u001b[0m\u001b[0;36m0\u001b[0m\u001b[0;34m]\u001b[0m\u001b[0;34m\u001b[0m\u001b[0;34m\u001b[0m\u001b[0m\n\u001b[0m",
      "\u001b[0;31mTypeError\u001b[0m: 'CommandCursor' object is not subscriptable"
     ]
    }
   ],
   "source": [
    "thing = collection.aggregate(pipeline)"
   ]
  },
  {
   "cell_type": "code",
   "execution_count": 47,
   "id": "2380eeae-3f8b-4b12-b46b-1aced14190dd",
   "metadata": {},
   "outputs": [
    {
     "name": "stdout",
     "output_type": "stream",
     "text": [
      "[{'_id': {'day': 259, 'year': 2021}, 'count': 90},\n",
      " {'_id': {'day': 273, 'year': 2021}, 'count': 44},\n",
      " {'_id': {'day': 267, 'year': 2021}, 'count': 29},\n",
      " {'_id': {'day': 244, 'year': 2021}, 'count': 27},\n",
      " {'_id': {'day': 258, 'year': 2021}, 'count': 27},\n",
      " {'_id': {'day': 268, 'year': 2021}, 'count': 26},\n",
      " {'_id': {'day': 245, 'year': 2021}, 'count': 25},\n",
      " {'_id': {'day': 272, 'year': 2021}, 'count': 21},\n",
      " {'_id': {'day': 246, 'year': 2021}, 'count': 21},\n",
      " {'_id': {'day': 266, 'year': 2021}, 'count': 19},\n",
      " {'_id': {'day': 247, 'year': 2021}, 'count': 19},\n",
      " {'_id': {'day': 250, 'year': 2021}, 'count': 18},\n",
      " {'_id': {'day': 271, 'year': 2021}, 'count': 16},\n",
      " {'_id': {'day': 249, 'year': 2021}, 'count': 14},\n",
      " {'_id': {'day': 248, 'year': 2021}, 'count': 13},\n",
      " {'_id': {'day': 264, 'year': 2021}, 'count': 12},\n",
      " {'_id': {'day': 256, 'year': 2021}, 'count': 11},\n",
      " {'_id': {'day': 269, 'year': 2021}, 'count': 11},\n",
      " {'_id': {'day': 265, 'year': 2021}, 'count': 10},\n",
      " {'_id': {'day': 255, 'year': 2021}, 'count': 10},\n",
      " {'_id': {'day': 253, 'year': 2021}, 'count': 10},\n",
      " {'_id': {'day': 254, 'year': 2021}, 'count': 10},\n",
      " {'_id': {'day': 262, 'year': 2021}, 'count': 9},\n",
      " {'_id': {'day': 263, 'year': 2021}, 'count': 9},\n",
      " {'_id': {'day': 257, 'year': 2021}, 'count': 7},\n",
      " {'_id': {'day': 260, 'year': 2021}, 'count': 7},\n",
      " {'_id': {'day': 270, 'year': 2021}, 'count': 7},\n",
      " {'_id': {'day': 251, 'year': 2021}, 'count': 6},\n",
      " {'_id': {'day': 252, 'year': 2021}, 'count': 5},\n",
      " {'_id': {'day': 261, 'year': 2021}, 'count': 1}]\n"
     ]
    }
   ],
   "source": [
    "pprint(list(thing)) #day 259 correlates to the 16th of Sept"
   ]
  },
  {
   "cell_type": "code",
   "execution_count": null,
   "id": "f58dc27b-be2f-408c-905d-552b7129004f",
   "metadata": {},
   "outputs": [],
   "source": []
  }
 ],
 "metadata": {
  "kernelspec": {
   "display_name": "Python 3 (ipykernel)",
   "language": "python",
   "name": "python3"
  },
  "language_info": {
   "codemirror_mode": {
    "name": "ipython",
    "version": 3
   },
   "file_extension": ".py",
   "mimetype": "text/x-python",
   "name": "python",
   "nbconvert_exporter": "python",
   "pygments_lexer": "ipython3",
   "version": "3.8.12"
  }
 },
 "nbformat": 4,
 "nbformat_minor": 5
}

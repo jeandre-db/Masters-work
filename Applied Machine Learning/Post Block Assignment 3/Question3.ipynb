{
 "cells": [
  {
   "cell_type": "markdown",
   "metadata": {},
   "source": [
    "## Introduction:\n",
    "\n",
    "Business objective: Develop a binary classification system which will classify a candidate scholarly article's text content as to whether it belongs to the subject area Information Theory or not."
   ]
  },
  {
   "cell_type": "markdown",
   "metadata": {},
   "source": [
    "## Objectives and validation strategy:\n",
    "\n",
    "Model output will be either a 1 (article is predicted to be in the Information Theory subject area) or a 0 in which case the article is not in the subject area. Performance of the model will be measured using standard accuracy and confusion  matricies metrics. This will be applied on a test and training data set to see how overfit the model is on the data and if any changes need to be made. "
   ]
  },
  {
   "cell_type": "code",
   "execution_count": 1,
   "metadata": {},
   "outputs": [
    {
     "name": "stderr",
     "output_type": "stream",
     "text": [
      "[nltk_data] Downloading package stopwords to\n",
      "[nltk_data]     /Users/jeandre/nltk_data...\n",
      "[nltk_data]   Package stopwords is already up-to-date!\n"
     ]
    }
   ],
   "source": [
    "import numpy as np\n",
    "import pandas as pd\n",
    "from sklearn.feature_extraction.text import CountVectorizer\n",
    "from sklearn.model_selection import train_test_split\n",
    "from sklearn.ensemble import RandomForestClassifier\n",
    "from sklearn import metrics\n",
    "from tqdm import tqdm\n",
    "import nltk\n",
    "nltk.download('stopwords')\n",
    "from nltk.corpus import stopwords\n",
    "from datetime import timedelta, date, datetime\n",
    "\n",
    "import matplotlib.pyplot as plt \n",
    "from matplotlib.pyplot import figure"
   ]
  },
  {
   "cell_type": "code",
   "execution_count": 2,
   "metadata": {},
   "outputs": [],
   "source": [
    "arx = pd.read_csv('/Users/jeandre/Desktop/Applied Machine Learning/Post Block Assignment 3/arxiv2017.csv', sep=';')"
   ]
  },
  {
   "cell_type": "code",
   "execution_count": 3,
   "metadata": {},
   "outputs": [
    {
     "data": {
      "text/html": [
       "<div>\n",
       "<style scoped>\n",
       "    .dataframe tbody tr th:only-of-type {\n",
       "        vertical-align: middle;\n",
       "    }\n",
       "\n",
       "    .dataframe tbody tr th {\n",
       "        vertical-align: top;\n",
       "    }\n",
       "\n",
       "    .dataframe thead th {\n",
       "        text-align: right;\n",
       "    }\n",
       "</style>\n",
       "<table border=\"1\" class=\"dataframe\">\n",
       "  <thead>\n",
       "    <tr style=\"text-align: right;\">\n",
       "      <th></th>\n",
       "      <th>ID</th>\n",
       "      <th>Date</th>\n",
       "      <th>Title</th>\n",
       "      <th>Abstract</th>\n",
       "      <th>Subject_area</th>\n",
       "    </tr>\n",
       "  </thead>\n",
       "  <tbody>\n",
       "    <tr>\n",
       "      <th>0</th>\n",
       "      <td>0912.5014v1</td>\n",
       "      <td>26/12/2009</td>\n",
       "      <td>A User's Guide to Zot</td>\n",
       "      <td>Zot is an agile and easily extendible bounded ...</td>\n",
       "      <td>LO</td>\n",
       "    </tr>\n",
       "    <tr>\n",
       "      <th>1</th>\n",
       "      <td>0910.0820v2</td>\n",
       "      <td>05/10/2009</td>\n",
       "      <td>Prediction of Zoonosis Incidence in Human usin...</td>\n",
       "      <td>Zoonosis refers to the transmission of infecti...</td>\n",
       "      <td>LG</td>\n",
       "    </tr>\n",
       "    <tr>\n",
       "      <th>2</th>\n",
       "      <td>1505.01933v1</td>\n",
       "      <td>08/05/2015</td>\n",
       "      <td>Wireless Multicast for Zoomable Video Streaming</td>\n",
       "      <td>Zoomable video streaming refers to a new class...</td>\n",
       "      <td>NI</td>\n",
       "    </tr>\n",
       "    <tr>\n",
       "      <th>3</th>\n",
       "      <td>1512.02794v2</td>\n",
       "      <td>09/12/2015</td>\n",
       "      <td>On Computing the Minkowski Difference of Zonot...</td>\n",
       "      <td>Zonotopes are becoming an increasingly popular...</td>\n",
       "      <td>CG</td>\n",
       "    </tr>\n",
       "    <tr>\n",
       "      <th>4</th>\n",
       "      <td>cs_0701171v1</td>\n",
       "      <td>26/01/2007</td>\n",
       "      <td>The Zones Algorithm for Finding Points-Near-a-...</td>\n",
       "      <td>Zones index an N-dimensional Euclidian or metr...</td>\n",
       "      <td>DB</td>\n",
       "    </tr>\n",
       "  </tbody>\n",
       "</table>\n",
       "</div>"
      ],
      "text/plain": [
       "             ID        Date  \\\n",
       "0   0912.5014v1  26/12/2009   \n",
       "1   0910.0820v2  05/10/2009   \n",
       "2  1505.01933v1  08/05/2015   \n",
       "3  1512.02794v2  09/12/2015   \n",
       "4  cs_0701171v1  26/01/2007   \n",
       "\n",
       "                                               Title  \\\n",
       "0                              A User's Guide to Zot   \n",
       "1  Prediction of Zoonosis Incidence in Human usin...   \n",
       "2    Wireless Multicast for Zoomable Video Streaming   \n",
       "3  On Computing the Minkowski Difference of Zonot...   \n",
       "4  The Zones Algorithm for Finding Points-Near-a-...   \n",
       "\n",
       "                                            Abstract Subject_area  \n",
       "0  Zot is an agile and easily extendible bounded ...           LO  \n",
       "1  Zoonosis refers to the transmission of infecti...           LG  \n",
       "2  Zoomable video streaming refers to a new class...           NI  \n",
       "3  Zonotopes are becoming an increasingly popular...           CG  \n",
       "4  Zones index an N-dimensional Euclidian or metr...           DB  "
      ]
     },
     "execution_count": 3,
     "metadata": {},
     "output_type": "execute_result"
    }
   ],
   "source": [
    "arx.head()"
   ]
  },
  {
   "cell_type": "code",
   "execution_count": 4,
   "metadata": {},
   "outputs": [],
   "source": [
    "arx[\"IT\"] = np.where(arx[\"Subject_area\"].str.contains(\"IT\"), 1, 0)\n",
    "arx.drop([\"ID\",\"Subject_area\"],axis=1,inplace=True)"
   ]
  },
  {
   "cell_type": "code",
   "execution_count": 5,
   "metadata": {},
   "outputs": [],
   "source": [
    "arx.head(20)\n",
    "arx.dropna(inplace = True)"
   ]
  },
  {
   "cell_type": "code",
   "execution_count": 6,
   "metadata": {},
   "outputs": [
    {
     "name": "stderr",
     "output_type": "stream",
     "text": [
      "<ipython-input-6-6a21afcde1ad>:3: SettingWithCopyWarning: \n",
      "A value is trying to be set on a copy of a slice from a DataFrame.\n",
      "Try using .loc[row_indexer,col_indexer] = value instead\n",
      "\n",
      "See the caveats in the documentation: https://pandas.pydata.org/pandas-docs/stable/user_guide/indexing.html#returning-a-view-versus-a-copy\n",
      "  X[\"text\"] = X[\"Title\"]+\" \"+X[\"Abstract\"]\n",
      "/Users/jeandre/opt/anaconda3/envs/DS/lib/python3.8/site-packages/pandas/core/frame.py:4163: SettingWithCopyWarning: \n",
      "A value is trying to be set on a copy of a slice from a DataFrame\n",
      "\n",
      "See the caveats in the documentation: https://pandas.pydata.org/pandas-docs/stable/user_guide/indexing.html#returning-a-view-versus-a-copy\n",
      "  return super().drop(\n"
     ]
    }
   ],
   "source": [
    "X = arx[list(arx.columns[1:-1])]\n",
    "Y = arx[\"IT\"]\n",
    "X[\"text\"] = X[\"Title\"]+\" \"+X[\"Abstract\"]\n",
    "X.drop([\"Title\",\"Abstract\"],axis=1,inplace = True)"
   ]
  },
  {
   "cell_type": "code",
   "execution_count": 7,
   "metadata": {},
   "outputs": [],
   "source": [
    "X_train, X_test, Y_train, Y_test = train_test_split(X[\"text\"], Y, test_size=0.2, random_state=42)"
   ]
  },
  {
   "cell_type": "code",
   "execution_count": 8,
   "metadata": {},
   "outputs": [
    {
     "data": {
      "text/plain": [
       "(105251,)"
      ]
     },
     "execution_count": 8,
     "metadata": {},
     "output_type": "execute_result"
    }
   ],
   "source": [
    "X_train.shape"
   ]
  },
  {
   "cell_type": "code",
   "execution_count": 9,
   "metadata": {},
   "outputs": [
    {
     "data": {
      "text/plain": [
       "(105251,)"
      ]
     },
     "execution_count": 9,
     "metadata": {},
     "output_type": "execute_result"
    }
   ],
   "source": [
    "Y_train.shape"
   ]
  },
  {
   "cell_type": "code",
   "execution_count": 10,
   "metadata": {},
   "outputs": [
    {
     "name": "stdout",
     "output_type": "stream",
     "text": [
      "vect1 shape =  (105251, 110102) vect2 shape =  (105251, 30000)\n"
     ]
    }
   ],
   "source": [
    "vect1 = CountVectorizer()\n",
    "vect2 = CountVectorizer(max_features=30000,min_df=2,max_df=0.8,stop_words=stopwords.words('english'),ngram_range=(2,2))\n",
    "X_train_counts1 = vect1.fit_transform(X_train)\n",
    "X_test_counts1 = vect1.transform(X_test)\n",
    "X_train_counts2 = vect2.fit_transform(X_train)\n",
    "X_test_counts2 = vect2.transform(X_test)\n",
    "print(\"vect1 shape = \",X_train_counts1.shape,\"vect2 shape = \",X_train_counts2.shape)"
   ]
  },
  {
   "cell_type": "code",
   "execution_count": 11,
   "metadata": {},
   "outputs": [
    {
     "data": {
      "text/plain": [
       "RandomForestClassifier(oob_score=True, random_state=0)"
      ]
     },
     "execution_count": 11,
     "metadata": {},
     "output_type": "execute_result"
    }
   ],
   "source": [
    "clf1 = RandomForestClassifier(random_state=0,oob_score=True)\n",
    "clf1.fit(X_train_counts1, Y_train)\n",
    "clf2 = RandomForestClassifier(random_state=0,oob_score=True)\n",
    "clf2.fit(X_train_counts2, Y_train)"
   ]
  },
  {
   "cell_type": "code",
   "execution_count": 12,
   "metadata": {},
   "outputs": [],
   "source": [
    "F_pred1 = clf1.predict(X_test_counts1)\n",
    "F_pred2 = clf2.predict(X_test_counts2)"
   ]
  },
  {
   "cell_type": "code",
   "execution_count": 13,
   "metadata": {},
   "outputs": [
    {
     "name": "stdout",
     "output_type": "stream",
     "text": [
      "Accuracy score = 0.8089686610807825\n",
      "Precision score = 0.9337873628452517\n",
      "Positive case Recall =  0.6257606490872211\n",
      "Negative case Recall =  0.992176673074344\n"
     ]
    }
   ],
   "source": [
    "print(\"Accuracy score =\",metrics.balanced_accuracy_score(Y_test,F_pred1))\n",
    "print(\"Precision score =\",metrics.precision_score(Y_test,F_pred1,average='binary',pos_label=1))\n",
    "print(\"Positive case Recall = \",metrics.recall_score(Y_test,F_pred1,average='binary',pos_label=1))\n",
    "print(\"Negative case Recall = \",metrics.recall_score(Y_test,F_pred1,average='binary',pos_label=0))"
   ]
  },
  {
   "cell_type": "code",
   "execution_count": 14,
   "metadata": {},
   "outputs": [
    {
     "name": "stdout",
     "output_type": "stream",
     "text": [
      "0.9321336614378961\n"
     ]
    }
   ],
   "source": [
    "print(clf1.oob_score_)"
   ]
  },
  {
   "cell_type": "code",
   "execution_count": 15,
   "metadata": {},
   "outputs": [],
   "source": [
    "values = [0,1]"
   ]
  },
  {
   "cell_type": "code",
   "execution_count": 16,
   "metadata": {},
   "outputs": [
    {
     "data": {
      "text/plain": [
       "<sklearn.metrics._plot.confusion_matrix.ConfusionMatrixDisplay at 0x7f97bd687dc0>"
      ]
     },
     "execution_count": 16,
     "metadata": {},
     "output_type": "execute_result"
    },
    {
     "data": {
      "image/png": "[encoded data removed]",
      "text/plain": [
       "<Figure size 432x288 with 2 Axes>"
      ]
     },
     "metadata": {
      "needs_background": "light"
     },
     "output_type": "display_data"
    }
   ],
   "source": [
    "metrics.plot_confusion_matrix(clf1,X_test_counts1,Y_test,display_labels=values) "
   ]
  },
  {
   "cell_type": "code",
   "execution_count": 17,
   "metadata": {},
   "outputs": [
    {
     "name": "stdout",
     "output_type": "stream",
     "text": [
      "Accuracy score = 0.8837454922357504\n",
      "Precision score = 0.8268876611418048\n",
      "Positive case Recall =  0.7969066937119675\n",
      "Negative case Recall =  0.9705842907595332\n"
     ]
    }
   ],
   "source": [
    "print(\"Accuracy score =\",metrics.balanced_accuracy_score(Y_test,F_pred2))\n",
    "print(\"Precision score =\",metrics.precision_score(Y_test,F_pred2,average='binary',pos_label=1))\n",
    "print(\"Positive case Recall = \",metrics.recall_score(Y_test,F_pred2,average='binary',pos_label=1))\n",
    "print(\"Negative case Recall = \",metrics.recall_score(Y_test,F_pred2,average='binary',pos_label=0))"
   ]
  },
  {
   "cell_type": "code",
   "execution_count": 18,
   "metadata": {},
   "outputs": [
    {
     "data": {
      "text/plain": [
       "<sklearn.metrics._plot.confusion_matrix.ConfusionMatrixDisplay at 0x7f97c72bff40>"
      ]
     },
     "execution_count": 18,
     "metadata": {},
     "output_type": "execute_result"
    },
    {
     "data": {
      "image/png": "[encoded data removed]",
      "text/plain": [
       "<Figure size 432x288 with 2 Axes>"
      ]
     },
     "metadata": {
      "needs_background": "light"
     },
     "output_type": "display_data"
    }
   ],
   "source": [
    "metrics.plot_confusion_matrix(clf2,X_test_counts2,Y_test,display_labels=values) "
   ]
  },
  {
   "cell_type": "code",
   "execution_count": 28,
   "metadata": {},
   "outputs": [],
   "source": [
    "arx2019 = pd.read_csv('/Users/jeandre/Desktop/Applied Machine Learning/Post Block Assignment 3/arxiv2019.csv', sep=';')"
   ]
  },
  {
   "cell_type": "code",
   "execution_count": 29,
   "metadata": {},
   "outputs": [],
   "source": [
    "arx2019['Date'] = pd.to_datetime(arx2019.Date)\n",
    "arx2019.sort_values(by=['Date'], inplace=True, ascending=True)"
   ]
  },
  {
   "cell_type": "code",
   "execution_count": 30,
   "metadata": {},
   "outputs": [
    {
     "name": "stdout",
     "output_type": "stream",
     "text": [
      "2017-12-31 00:00:00\n",
      "2019-12-10 00:00:00\n"
     ]
    },
    {
     "data": {
      "text/plain": [
       "['(2017-12-31 00:00:00, 2018-03-29 15:00:00]',\n",
       " '(2018-03-29 15:00:00, 2018-06-26 06:00:00]',\n",
       " '(2018-06-26 06:00:00, 2018-09-22 21:00:00]',\n",
       " '(2018-09-22 21:00:00, 2018-12-20 12:00:00]',\n",
       " '(2018-12-20 12:00:00, 2019-03-19 03:00:00]',\n",
       " '(2019-03-19 03:00:00, 2019-06-15 18:00:00]',\n",
       " '(2019-06-15 18:00:00, 2019-09-12 09:00:00]',\n",
       " '(2019-09-12 09:00:00, 2019-12-10 00:00:00]']"
      ]
     },
     "execution_count": 30,
     "metadata": {},
     "output_type": "execute_result"
    }
   ],
   "source": [
    "print(min(arx2019[\"Date\"])-timedelta(days=1))\n",
    "print(max(arx2019[\"Date\"]))\n",
    "timedelta(days=10)\n",
    "\n",
    "bins_dt = pd.date_range(start=min(arx2019[\"Date\"]-timedelta(days=1)),end=(max(arx2019[\"Date\"])), periods=9)\n",
    "bins_str = bins_dt.astype(str).values\n",
    "\n",
    "labels = ['({}, {}]'.format(bins_str[i-1], bins_str[i]) for i in range(1, len(bins_str))]\n",
    "\n",
    "arx2019['cat'] = pd.cut(arx2019.Date.astype(np.int64)//10**9,\n",
    "                   bins=bins_dt.astype(np.int64)//10**9,\n",
    "                   labels=labels)\n",
    "\n",
    "binss = arx2019['cat'].unique().tolist()\n",
    "#binss.append(binss.pop(binss.index(binss[0])))\n",
    "\n",
    "bin_dict = {binn: arx2019.loc[arx2019.cat==binn] for binn in binss}\n",
    "binss"
   ]
  },
  {
   "cell_type": "code",
   "execution_count": 31,
   "metadata": {},
   "outputs": [
    {
     "name": "stderr",
     "output_type": "stream",
     "text": [
      "<ipython-input-31-3fbcb8d7decd>:5: DeprecationWarning: The default dtype for empty Series will be 'object' instead of 'float64' in a future version. Specify a dtype explicitly to silence this warning.\n",
      "  X_prev = pd.Series()\n",
      "<ipython-input-31-3fbcb8d7decd>:6: DeprecationWarning: The default dtype for empty Series will be 'object' instead of 'float64' in a future version. Specify a dtype explicitly to silence this warning.\n",
      "  Y_prev = pd.Series()\n",
      "<ipython-input-31-3fbcb8d7decd>:17: SettingWithCopyWarning: \n",
      "A value is trying to be set on a copy of a slice from a DataFrame.\n",
      "Try using .loc[row_indexer,col_indexer] = value instead\n",
      "\n",
      "See the caveats in the documentation: https://pandas.pydata.org/pandas-docs/stable/user_guide/indexing.html#returning-a-view-versus-a-copy\n",
      "  X[\"text\"] = X[\"Title\"]+\" \"+X[\"Abstract\"]\n",
      "/Users/jeandre/opt/anaconda3/envs/DS/lib/python3.8/site-packages/pandas/core/frame.py:4163: SettingWithCopyWarning: \n",
      "A value is trying to be set on a copy of a slice from a DataFrame\n",
      "\n",
      "See the caveats in the documentation: https://pandas.pydata.org/pandas-docs/stable/user_guide/indexing.html#returning-a-view-versus-a-copy\n",
      "  return super().drop(\n"
     ]
    },
    {
     "name": "stdout",
     "output_type": "stream",
     "text": [
      "Testing date range: (2017-12-31 00:00:00, 2018-03-29 15:00:00]\n",
      "          Date                                              Title  \\\n",
      "843 2018-01-01  A Comparative Study of LOWESS and RBF Approxim...   \n",
      "\n",
      "                                              Abstract  \\\n",
      "843  Approximation methods are widely used in many ...   \n",
      "\n",
      "                                            cat  IT  \n",
      "843  (2017-12-31 00:00:00, 2018-03-29 15:00:00]   0  \n",
      "Accuracy score = 0.8887928314664242\n",
      "Precision score = 0.7744807121661721\n",
      "Positive case Recall =  0.7981651376146789\n",
      "Negative case Recall =  0.9794205253181695\n"
     ]
    },
    {
     "name": "stderr",
     "output_type": "stream",
     "text": [
      "<ipython-input-31-3fbcb8d7decd>:17: SettingWithCopyWarning: \n",
      "A value is trying to be set on a copy of a slice from a DataFrame.\n",
      "Try using .loc[row_indexer,col_indexer] = value instead\n",
      "\n",
      "See the caveats in the documentation: https://pandas.pydata.org/pandas-docs/stable/user_guide/indexing.html#returning-a-view-versus-a-copy\n",
      "  X[\"text\"] = X[\"Title\"]+\" \"+X[\"Abstract\"]\n",
      "/Users/jeandre/opt/anaconda3/envs/DS/lib/python3.8/site-packages/pandas/core/frame.py:4163: SettingWithCopyWarning: \n",
      "A value is trying to be set on a copy of a slice from a DataFrame\n",
      "\n",
      "See the caveats in the documentation: https://pandas.pydata.org/pandas-docs/stable/user_guide/indexing.html#returning-a-view-versus-a-copy\n",
      "  return super().drop(\n"
     ]
    },
    {
     "name": "stdout",
     "output_type": "stream",
     "text": [
      "Testing date range: (2018-03-29 15:00:00, 2018-06-26 06:00:00]\n",
      "            Date                                              Title  \\\n",
      "44483 2018-03-30  Multiplying boolean Polynomials with Frobenius...   \n",
      "\n",
      "                                                Abstract  \\\n",
      "44483  We show a new algorithm and its implementation...   \n",
      "\n",
      "                                              cat  IT  \n",
      "44483  (2018-03-29 15:00:00, 2018-06-26 06:00:00]   0  \n",
      "Accuracy score = 0.8662305191517297\n",
      "Precision score = 0.7563150074294205\n",
      "Positive case Recall =  0.7518463810930576\n",
      "Negative case Recall =  0.9806146572104019\n"
     ]
    },
    {
     "name": "stderr",
     "output_type": "stream",
     "text": [
      "<ipython-input-31-3fbcb8d7decd>:17: SettingWithCopyWarning: \n",
      "A value is trying to be set on a copy of a slice from a DataFrame.\n",
      "Try using .loc[row_indexer,col_indexer] = value instead\n",
      "\n",
      "See the caveats in the documentation: https://pandas.pydata.org/pandas-docs/stable/user_guide/indexing.html#returning-a-view-versus-a-copy\n",
      "  X[\"text\"] = X[\"Title\"]+\" \"+X[\"Abstract\"]\n",
      "/Users/jeandre/opt/anaconda3/envs/DS/lib/python3.8/site-packages/pandas/core/frame.py:4163: SettingWithCopyWarning: \n",
      "A value is trying to be set on a copy of a slice from a DataFrame\n",
      "\n",
      "See the caveats in the documentation: https://pandas.pydata.org/pandas-docs/stable/user_guide/indexing.html#returning-a-view-versus-a-copy\n",
      "  return super().drop(\n"
     ]
    },
    {
     "name": "stdout",
     "output_type": "stream",
     "text": [
      "Testing date range: (2018-06-26 06:00:00, 2018-09-22 21:00:00]\n",
      "            Date                                              Title  \\\n",
      "19998 2018-06-27  Deep Steganalysis: End-to-End Learning with Su...   \n",
      "\n",
      "                                                Abstract  \\\n",
      "19998  Recently, deep learning has shown its power in...   \n",
      "\n",
      "                                              cat  IT  \n",
      "19998  (2018-06-26 06:00:00, 2018-09-22 21:00:00]   0  \n",
      "Accuracy score = 0.8698268001307039\n",
      "Precision score = 0.7545909849749582\n",
      "Positive case Recall =  0.7583892617449665\n",
      "Negative case Recall =  0.9812643385164415\n"
     ]
    },
    {
     "name": "stderr",
     "output_type": "stream",
     "text": [
      "<ipython-input-31-3fbcb8d7decd>:17: SettingWithCopyWarning: \n",
      "A value is trying to be set on a copy of a slice from a DataFrame.\n",
      "Try using .loc[row_indexer,col_indexer] = value instead\n",
      "\n",
      "See the caveats in the documentation: https://pandas.pydata.org/pandas-docs/stable/user_guide/indexing.html#returning-a-view-versus-a-copy\n",
      "  X[\"text\"] = X[\"Title\"]+\" \"+X[\"Abstract\"]\n",
      "/Users/jeandre/opt/anaconda3/envs/DS/lib/python3.8/site-packages/pandas/core/frame.py:4163: SettingWithCopyWarning: \n",
      "A value is trying to be set on a copy of a slice from a DataFrame\n",
      "\n",
      "See the caveats in the documentation: https://pandas.pydata.org/pandas-docs/stable/user_guide/indexing.html#returning-a-view-versus-a-copy\n",
      "  return super().drop(\n"
     ]
    },
    {
     "name": "stdout",
     "output_type": "stream",
     "text": [
      "Testing date range: (2018-09-22 21:00:00, 2018-12-20 12:00:00]\n",
      "            Date                                              Title  \\\n",
      "38001 2018-09-23  Learning and Evaluating Sparse Interpretable S...   \n",
      "\n",
      "                                                Abstract  \\\n",
      "38001  Previous research on word embeddings has shown...   \n",
      "\n",
      "                                              cat  IT  \n",
      "38001  (2018-09-22 21:00:00, 2018-12-20 12:00:00]   0  \n",
      "Accuracy score = 0.8562758863129172\n",
      "Precision score = 0.7454545454545455\n",
      "Positive case Recall =  0.7282415630550622\n",
      "Negative case Recall =  0.9843102095707722\n"
     ]
    },
    {
     "name": "stderr",
     "output_type": "stream",
     "text": [
      "<ipython-input-31-3fbcb8d7decd>:17: SettingWithCopyWarning: \n",
      "A value is trying to be set on a copy of a slice from a DataFrame.\n",
      "Try using .loc[row_indexer,col_indexer] = value instead\n",
      "\n",
      "See the caveats in the documentation: https://pandas.pydata.org/pandas-docs/stable/user_guide/indexing.html#returning-a-view-versus-a-copy\n",
      "  X[\"text\"] = X[\"Title\"]+\" \"+X[\"Abstract\"]\n",
      "/Users/jeandre/opt/anaconda3/envs/DS/lib/python3.8/site-packages/pandas/core/frame.py:4163: SettingWithCopyWarning: \n",
      "A value is trying to be set on a copy of a slice from a DataFrame\n",
      "\n",
      "See the caveats in the documentation: https://pandas.pydata.org/pandas-docs/stable/user_guide/indexing.html#returning-a-view-versus-a-copy\n",
      "  return super().drop(\n"
     ]
    },
    {
     "name": "stdout",
     "output_type": "stream",
     "text": [
      "Testing date range: (2018-12-20 12:00:00, 2019-03-19 03:00:00]\n",
      "            Date                                              Title  \\\n",
      "44991 2018-12-21  NADPEx: An on-policy temporally consistent exp...   \n",
      "\n",
      "                                                Abstract  \\\n",
      "44991  Reinforcement learning agents need exploratory...   \n",
      "\n",
      "                                              cat  IT  \n",
      "44991  (2018-12-20 12:00:00, 2019-03-19 03:00:00]   0  \n",
      "Accuracy score = 0.8790376078111928\n",
      "Precision score = 0.7715179968701096\n",
      "Positive case Recall =  0.7751572327044025\n",
      "Negative case Recall =  0.9829179829179829\n"
     ]
    },
    {
     "name": "stderr",
     "output_type": "stream",
     "text": [
      "<ipython-input-31-3fbcb8d7decd>:17: SettingWithCopyWarning: \n",
      "A value is trying to be set on a copy of a slice from a DataFrame.\n",
      "Try using .loc[row_indexer,col_indexer] = value instead\n",
      "\n",
      "See the caveats in the documentation: https://pandas.pydata.org/pandas-docs/stable/user_guide/indexing.html#returning-a-view-versus-a-copy\n",
      "  X[\"text\"] = X[\"Title\"]+\" \"+X[\"Abstract\"]\n",
      "/Users/jeandre/opt/anaconda3/envs/DS/lib/python3.8/site-packages/pandas/core/frame.py:4163: SettingWithCopyWarning: \n",
      "A value is trying to be set on a copy of a slice from a DataFrame\n",
      "\n",
      "See the caveats in the documentation: https://pandas.pydata.org/pandas-docs/stable/user_guide/indexing.html#returning-a-view-versus-a-copy\n",
      "  return super().drop(\n"
     ]
    },
    {
     "name": "stdout",
     "output_type": "stream",
     "text": [
      "Testing date range: (2019-03-19 03:00:00, 2019-06-15 18:00:00]\n",
      "           Date                                              Title  \\\n",
      "3535 2019-03-20  A Polynomial-time Solution for Robust Registra...   \n",
      "\n",
      "                                               Abstract  \\\n",
      "3535  We propose a robust approach for the registrat...   \n",
      "\n",
      "                                             cat  IT  \n",
      "3535  (2019-03-19 03:00:00, 2019-06-15 18:00:00]   0  \n",
      "Accuracy score = 0.8653548766668333\n",
      "Precision score = 0.7211538461538461\n",
      "Positive case Recall =  0.7455268389662028\n",
      "Negative case Recall =  0.9851829143674637\n"
     ]
    },
    {
     "name": "stderr",
     "output_type": "stream",
     "text": [
      "<ipython-input-31-3fbcb8d7decd>:17: SettingWithCopyWarning: \n",
      "A value is trying to be set on a copy of a slice from a DataFrame.\n",
      "Try using .loc[row_indexer,col_indexer] = value instead\n",
      "\n",
      "See the caveats in the documentation: https://pandas.pydata.org/pandas-docs/stable/user_guide/indexing.html#returning-a-view-versus-a-copy\n",
      "  X[\"text\"] = X[\"Title\"]+\" \"+X[\"Abstract\"]\n",
      "/Users/jeandre/opt/anaconda3/envs/DS/lib/python3.8/site-packages/pandas/core/frame.py:4163: SettingWithCopyWarning: \n",
      "A value is trying to be set on a copy of a slice from a DataFrame\n",
      "\n",
      "See the caveats in the documentation: https://pandas.pydata.org/pandas-docs/stable/user_guide/indexing.html#returning-a-view-versus-a-copy\n",
      "  return super().drop(\n"
     ]
    },
    {
     "name": "stdout",
     "output_type": "stream",
     "text": [
      "Testing date range: (2019-06-15 18:00:00, 2019-09-12 09:00:00]\n",
      "            Date                                              Title  \\\n",
      "38705 2019-06-16  Learning Part Generation and Assembly for Stru...   \n",
      "\n",
      "                                                Abstract  \\\n",
      "38705  Learning deep generative models for 3D shape s...   \n",
      "\n",
      "                                              cat  IT  \n",
      "38705  (2019-06-15 18:00:00, 2019-09-12 09:00:00]   0  \n",
      "Accuracy score = 0.8810441432831293\n",
      "Precision score = 0.7457627118644068\n",
      "Positive case Recall =  0.775330396475771\n",
      "Negative case Recall =  0.9867578900904878\n"
     ]
    },
    {
     "name": "stderr",
     "output_type": "stream",
     "text": [
      "<ipython-input-31-3fbcb8d7decd>:17: SettingWithCopyWarning: \n",
      "A value is trying to be set on a copy of a slice from a DataFrame.\n",
      "Try using .loc[row_indexer,col_indexer] = value instead\n",
      "\n",
      "See the caveats in the documentation: https://pandas.pydata.org/pandas-docs/stable/user_guide/indexing.html#returning-a-view-versus-a-copy\n",
      "  X[\"text\"] = X[\"Title\"]+\" \"+X[\"Abstract\"]\n",
      "/Users/jeandre/opt/anaconda3/envs/DS/lib/python3.8/site-packages/pandas/core/frame.py:4163: SettingWithCopyWarning: \n",
      "A value is trying to be set on a copy of a slice from a DataFrame\n",
      "\n",
      "See the caveats in the documentation: https://pandas.pydata.org/pandas-docs/stable/user_guide/indexing.html#returning-a-view-versus-a-copy\n",
      "  return super().drop(\n"
     ]
    },
    {
     "name": "stdout",
     "output_type": "stream",
     "text": [
      "Testing date range: (2019-09-12 09:00:00, 2019-12-10 00:00:00]\n",
      "           Date                                              Title  \\\n",
      "6312 2019-09-13  Addressing Semantic Drift in Question Generati...   \n",
      "\n",
      "                                               Abstract  \\\n",
      "6312  Text-based Question Generation (QG) aims at ge...   \n",
      "\n",
      "                                             cat  IT  \n",
      "6312  (2019-09-12 09:00:00, 2019-12-10 00:00:00]   0  \n",
      "Accuracy score = 0.8804192780134084\n",
      "Precision score = 0.7742718446601942\n",
      "Positive case Recall =  0.7723970944309927\n",
      "Negative case Recall =  0.988441461595824\n"
     ]
    }
   ],
   "source": [
    "acc_scores = {\"date\" :[],\"score\": []}\n",
    "pos_scores = {\"date\" :[],\"score\": []}\n",
    "X_total = X_train\n",
    "Y_total = Y_train\n",
    "X_prev = pd.Series()\n",
    "Y_prev = pd.Series()\n",
    "for x in binss:\n",
    "    \n",
    "    \n",
    "    arx2019 = bin_dict[x]\n",
    "    arx2019[\"IT\"] = np.where(arx2019[\"Subject_area\"].str.contains(\"IT\"), 1, 0)\n",
    "    arx2019.drop([\"ID\",\"Subject_area\"],axis=1,inplace=True)\n",
    "\n",
    "    arx2019.dropna(inplace = True)\n",
    "    X = arx2019[list(arx2019.columns[1:-1])]\n",
    "    Y = arx2019[\"IT\"]\n",
    "    X[\"text\"] = X[\"Title\"]+\" \"+X[\"Abstract\"]\n",
    "    X.drop([\"Title\",\"Abstract\"],axis=1,inplace = True)\n",
    "    X = X[\"text\"]\n",
    "    X_total = pd.concat([X_total,X_prev],ignore_index=True)\n",
    "    X_total_counts = vect2.fit_transform(X_total)\n",
    "    X_counts3 = vect2.transform(X)\n",
    "    Y_total = pd.concat([Y_total,Y_prev],ignore_index=True)\n",
    "    \n",
    "    clf2.fit(X_total_counts,Y_total)\n",
    "\n",
    "    F_pred3 = clf2.predict(X_counts3)\n",
    "    print(\"Testing date range:\",x)\n",
    "    print(arx2019.head(1))\n",
    "    print(\"Accuracy score =\",metrics.balanced_accuracy_score(Y,F_pred3))\n",
    "    print(\"Precision score =\",metrics.precision_score(Y,F_pred3,average='binary',pos_label=1))\n",
    "    print(\"Positive case Recall = \",metrics.recall_score(Y,F_pred3,average='binary',pos_label=1))\n",
    "    print(\"Negative case Recall = \",metrics.recall_score(Y,F_pred3,average='binary',pos_label=0))\n",
    "    acc_scores[\"date\"].append(x)\n",
    "    acc_scores[\"score\"].append(metrics.balanced_accuracy_score(Y,F_pred3))\n",
    "    pos_scores[\"date\"].append(x)\n",
    "    pos_scores[\"score\"].append(metrics.recall_score(Y,F_pred3,average='binary',pos_label=1))\n",
    "    X_prev = X\n",
    "    Y_prev = Y\n"
   ]
  },
  {
   "cell_type": "code",
   "execution_count": 32,
   "metadata": {},
   "outputs": [
    {
     "data": {
      "text/plain": [
       "<sklearn.metrics._plot.confusion_matrix.ConfusionMatrixDisplay at 0x7f97be30b1f0>"
      ]
     },
     "execution_count": 32,
     "metadata": {},
     "output_type": "execute_result"
    },
    {
     "data": {
      "image/png": "[encoded data removed]",
      "text/plain": [
       "<Figure size 432x288 with 2 Axes>"
      ]
     },
     "metadata": {
      "needs_background": "light"
     },
     "output_type": "display_data"
    }
   ],
   "source": [
    "metrics.plot_confusion_matrix(clf2,X_counts3,Y,display_labels=values) "
   ]
  },
  {
   "cell_type": "code",
   "execution_count": 33,
   "metadata": {},
   "outputs": [
    {
     "data": {
      "text/plain": [
       "<matplotlib.legend.Legend at 0x7f97cf62a970>"
      ]
     },
     "execution_count": 33,
     "metadata": {},
     "output_type": "execute_result"
    },
    {
     "data": {
      "image/png": "[encoded data removed]",
      "text/plain": [
       "<Figure size 960x960 with 1 Axes>"
      ]
     },
     "metadata": {
      "needs_background": "light"
     },
     "output_type": "display_data"
    }
   ],
   "source": [
    "tickrange = range(len(acc_scores[\"date\"]))\n",
    "dates = []\n",
    "for i in tickrange:\n",
    "    dates.append(acc_scores[\"date\"][i][22:33])\n",
    "figure(figsize=(12, 12), dpi=80)\n",
    "acc = plt.bar(tickrange, acc_scores[\"score\"], align='center',label = \"overall accuracy\")\n",
    "pos = plt.bar(tickrange, pos_scores[\"score\"], align='center',label = \"positive recall\")\n",
    "plt.legend(handles = [acc,pos])\n",
    "#plt.xticks(tickrange, dates)"
   ]
  },
  {
   "cell_type": "code",
   "execution_count": null,
   "metadata": {},
   "outputs": [],
   "source": []
  },
  {
   "cell_type": "code",
   "execution_count": null,
   "metadata": {},
   "outputs": [],
   "source": []
  },
  {
   "cell_type": "code",
   "execution_count": null,
   "metadata": {},
   "outputs": [],
   "source": []
  }
 ],
 "metadata": {
  "kernelspec": {
   "display_name": "Python 3",
   "language": "python",
   "name": "python3"
  },
  "language_info": {
   "codemirror_mode": {
    "name": "ipython",
    "version": 3
   },
   "file_extension": ".py",
   "mimetype": "text/x-python",
   "name": "python",
   "nbconvert_exporter": "python",
   "pygments_lexer": "ipython3",
   "version": "3.8.5"
  }
 },
 "nbformat": 4,
 "nbformat_minor": 4
}

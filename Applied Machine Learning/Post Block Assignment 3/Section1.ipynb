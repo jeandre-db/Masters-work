{
 "cells": [
  {
   "cell_type": "code",
   "execution_count": 1,
   "metadata": {},
   "outputs": [],
   "source": [
    "import numpy as np"
   ]
  },
  {
   "cell_type": "code",
   "execution_count": 2,
   "metadata": {},
   "outputs": [
    {
     "data": {
      "text/plain": [
       "array([-0.55759988, -0.64249864, -0.61192337,  1.31377886, -0.05820897,\n",
       "       -0.69526542, -1.21661014,  1.54392442,  0.71881819,  1.02825159,\n",
       "       -1.55131545,  1.41021679,  0.21562836])"
      ]
     },
     "execution_count": 2,
     "metadata": {},
     "output_type": "execute_result"
    }
   ],
   "source": []
  },
  {
   "cell_type": "code",
   "execution_count": null,
   "metadata": {},
   "outputs": [],
   "source": [
    "def rbf(x, c, s):\n",
    "    return np.exp(-1 / (2 * s**2) * (x-c)**2)\n"
   ]
  },
  {
   "cell_type": "code",
   "execution_count": null,
   "metadata": {},
   "outputs": [],
   "source": [
    "class RBFNet(object):\n",
    "    \"\"\"Implementation of a Radial Basis Function Network\"\"\"\n",
    "    def __init__(self, k=13, lr=0.01, epochs=100, rbf=rbf, inferStds=True):\n",
    "        self.k = k\n",
    "        self.lr = lr\n",
    "        self.epochs = epochs\n",
    "        self.rbf = rbf\n",
    "        self.inferStds = inferStds\n",
    " \n",
    "        self.w = np.array([0.1, −0.1, 0.1, −0.1, 0.1, −0.1, 0.1, −0.1, 0.1, −0.1, 0.1, −0.1, 0.1])\n",
    "        self.b = np.random.randn(1)"
   ]
  },
  {
   "cell_type": "code",
   "execution_count": null,
   "metadata": {},
   "outputs": [],
   "source": [
    "def fit(self, X, y):\n",
    "    if self.inferStds:\n",
    "        # compute stds from data\n",
    "        self.centers, self.stds = kmeans(X, self.k)\n",
    "    else:\n",
    "        # use a fixed std \n",
    "        self.centers, _ = kmeans(X, self.k)\n",
    "        dMax = max([np.abs(c1 - c2) for c1 in self.centers for c2 in self.centers])\n",
    "        self.stds = np.repeat(dMax / np.sqrt(2*self.k), self.k)\n",
    " \n",
    "    # training\n",
    "    for epoch in range(self.epochs):\n",
    "        for i in range(X.shape[0]):\n",
    "            # forward pass\n",
    "            a = np.array([self.rbf(X[i], c, s) for c, s, in zip(self.centers, self.stds)])\n",
    "            F = a.T.dot(self.w) + self.b\n",
    " \n",
    "            loss = (y[i] - F).flatten() ** 2\n",
    "            print('Loss: {0:.2f}'.format(loss[0]))\n",
    " \n",
    "            # backward pass\n",
    "            error = -(y[i] - F).flatten()\n",
    " \n",
    "            # online update\n",
    "            self.w = self.w - self.lr * a * error\n",
    "            self.b = self.b - self.lr * error"
   ]
  },
  {
   "cell_type": "code",
   "execution_count": null,
   "metadata": {},
   "outputs": [],
   "source": [
    "def predict(self, X):\n",
    "    y_pred = []\n",
    "    for i in range(X.shape[0]):\n",
    "        a = np.array([self.rbf(X[i], c, s) for c, s, in zip(self.centers, self.stds)])\n",
    "        F = a.T.dot(self.w) + self.b\n",
    "        y_pred.append(F)\n",
    "    return np.array(y_pred)\n"
   ]
  }
 ],
 "metadata": {
  "kernelspec": {
   "display_name": "Python 3",
   "language": "python",
   "name": "python3"
  },
  "language_info": {
   "codemirror_mode": {
    "name": "ipython",
    "version": 3
   },
   "file_extension": ".py",
   "mimetype": "text/x-python",
   "name": "python",
   "nbconvert_exporter": "python",
   "pygments_lexer": "ipython3",
   "version": "3.8.5"
  }
 },
 "nbformat": 4,
 "nbformat_minor": 4
}

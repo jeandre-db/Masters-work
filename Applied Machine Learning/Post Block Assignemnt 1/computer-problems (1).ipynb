{
 "cells": [
  {
   "cell_type": "code",
   "execution_count": 4,
   "id": "c6193207-c28b-4174-bf27-dc8ea1a0c5fd",
   "metadata": {},
   "outputs": [
    {
     "name": "stdout",
     "output_type": "stream",
     "text": [
      "[[ 2.          0.          0.          0.        ]\n",
      " [-0.5         1.93649167  0.          0.        ]\n",
      " [-0.5         0.          1.93649167  0.        ]\n",
      " [ 0.         -0.51639778 -0.51639778  1.86189867]]\n"
     ]
    },
    {
     "name": "stderr",
     "output_type": "stream",
     "text": [
      "<ipython-input-4-c38efd63de7e>:22: DeprecationWarning: scipy.sqrt is deprecated and will be removed in SciPy 2.0.0, use numpy.lib.scimath.sqrt instead\n",
      "  L[i,i] = sqrt( L[i,i] - Lik*Lik.T )  # Update the diagonal\n"
     ]
    }
   ],
   "source": [
    "#   A = ICHOL(A) returns the incmplete Cholesky factorisation of the Poisson matrix.\n",
    "# Nick Hale, 2020 (nickhale@sun.ac.za) \n",
    "\n",
    "import numpy as np\n",
    "from scipy.sparse import spdiags\n",
    "from scipy.sparse import kronsum\n",
    "from scipy.sparse import tril\n",
    "from scipy.sparse import find\n",
    "from scipy import sqrt\n",
    "\n",
    "def poisson(N=3):\n",
    "    e = np.ones(N);\n",
    "    A1 = spdiags([-e,2*e,-e],[-1,0,1],N,N)\n",
    "    A = kronsum(A1,A1)\n",
    "    return(A)\n",
    "\n",
    "def ichol(A):\n",
    "    L = tril(A,0).tocsc();               # Take lower triangular part and convert sparse forma\n",
    "    for i in range(0, L.shape[0]):       # Loop over the rows\n",
    "        z,k,z = find(L[i,0:i])           # Find the nonzero entries in this row\n",
    "        Lik = L[i,k].todense()           # Nonzero entries in ith row (why do I need to make it dense?)\n",
    "        L[i,i] = sqrt( L[i,i] - Lik*Lik.T )  # Update the diagonal\n",
    "        j,z,z = find(L[(i+1):,i])        # Find nonzero entries in the ith column\n",
    "        j += i+1;\n",
    "        for jj in j:\n",
    "            S = (L[jj,k] * L[i,k].T).todense() # Again with the making dense?!\n",
    "            L[jj,i] = (L[jj,i]-S)/L[i,i]           \n",
    "    return( L.tocoo() )\n",
    "\n",
    "A = poisson(2)\n",
    "L = ichol(A)\n",
    "print(L.toarray())"
   ]
  },
  {
   "cell_type": "markdown",
   "id": "7dce6473-35f1-4f7f-8583-327004fa423f",
   "metadata": {},
   "source": [
    "This closely matches the incomplete cholesky performed by hand in part b)\n",
    "\n",
    "Thanks for updating the code Prof :)"
   ]
  },
  {
   "cell_type": "code",
   "execution_count": 8,
   "id": "7759b12b-bf37-453b-a666-e1f026aedd01",
   "metadata": {},
   "outputs": [],
   "source": [
    "A = np.array([1,0,0,9]).reshape(2,2)\n",
    "b = np.array([0,0]).reshape(2,1)\n",
    "x0 = np.array([9,1]).reshape(2,1)"
   ]
  },
  {
   "cell_type": "code",
   "execution_count": 16,
   "id": "4192b3c2-5d6d-4f79-adae-7061ac1e8aa3",
   "metadata": {},
   "outputs": [
    {
     "data": {
      "text/plain": [
       "array([[ 7.2],\n",
       "       [-0.8]])"
      ]
     },
     "execution_count": 16,
     "metadata": {},
     "output_type": "execute_result"
    }
   ],
   "source": [
    "r0 = b - np.matmul(A,x0)\n",
    "t0 = np.matmul(A,r0)\n",
    "alpha0 = (np.matmul(r0.T,r0))/(np.matmul(r0.T,t0))\n",
    "alpha0[0][0]\n",
    "x1 = x0 + alpha0*r0"
   ]
  },
  {
   "cell_type": "code",
   "execution_count": null,
   "id": "c10eec3d-acb5-4641-972b-4e3b798976ec",
   "metadata": {},
   "outputs": [],
   "source": []
  }
 ],
 "metadata": {
  "kernelspec": {
   "display_name": "Python 3",
   "language": "python",
   "name": "python3"
  },
  "language_info": {
   "codemirror_mode": {
    "name": "ipython",
    "version": 3
   },
   "file_extension": ".py",
   "mimetype": "text/x-python",
   "name": "python",
   "nbconvert_exporter": "python",
   "pygments_lexer": "ipython3",
   "version": "3.8.5"
  }
 },
 "nbformat": 4,
 "nbformat_minor": 5
}

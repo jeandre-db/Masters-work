{
 "cells": [
  {
   "cell_type": "code",
   "execution_count": 1,
   "metadata": {},
   "outputs": [],
   "source": [
    "import pandas as pd\n",
    "import numpy as np\n",
    "import seaborn as sns\n",
    "import sklearn\n",
    "import matplotlib.pyplot as plt\n",
    "from sklearn import tree\n",
    "from sklearn.tree import DecisionTreeClassifier, plot_tree\n",
    "from sklearn.neighbors import KNeighborsClassifier\n",
    "import sklearn.metrics\n",
    "from matplotlib import pyplot\n",
    "import pandas_profiling\n",
    "from imblearn.over_sampling import SMOTE"
   ]
  },
  {
   "cell_type": "code",
   "execution_count": 2,
   "metadata": {},
   "outputs": [],
   "source": [
    "def without_hue(plot, feature):\n",
    "    total = len(feature)\n",
    "    for p in plot.patches:\n",
    "        percentage = '{:.1f}%'.format(100 * p.get_height()/total)\n",
    "        x = p.get_x() + p.get_width() / 2 - 0.05\n",
    "        y = p.get_y() + p.get_height()\n",
    "        ax.annotate(percentage, (x, y), size = 12)\n",
    "    plt.show()"
   ]
  },
  {
   "cell_type": "markdown",
   "metadata": {},
   "source": [
    "## 1"
   ]
  },
  {
   "cell_type": "code",
   "execution_count": 3,
   "metadata": {},
   "outputs": [],
   "source": [
    "\n",
    "breast_train = pd.read_csv('/Users/jeandre/Desktop/Applied Machine Learning/Post Block Assignemnt 1/breastCancerTrain.csv', sep='\\t')"
   ]
  },
  {
   "cell_type": "code",
   "execution_count": 4,
   "metadata": {},
   "outputs": [],
   "source": [
    "breast_test = pd.read_csv('/Users/jeandre/Desktop/Applied Machine Learning/Post Block Assignemnt 1/breastCancerTest.csv', sep='\\t')"
   ]
  },
  {
   "cell_type": "code",
   "execution_count": 5,
   "metadata": {},
   "outputs": [],
   "source": [
    "breast = pd.concat([breast_test,breast_train])\n",
    "breast.replace('?',value = np.nan,inplace=True)"
   ]
  },
  {
   "cell_type": "code",
   "execution_count": 6,
   "metadata": {},
   "outputs": [
    {
     "name": "stdout",
     "output_type": "stream",
     "text": [
      "<class 'pandas.core.frame.DataFrame'>\n"
     ]
    }
   ],
   "source": [
    "print(type(breast))"
   ]
  },
  {
   "cell_type": "code",
   "execution_count": 7,
   "metadata": {},
   "outputs": [
    {
     "data": {
      "text/html": [
       "<div>\n",
       "<style scoped>\n",
       "    .dataframe tbody tr th:only-of-type {\n",
       "        vertical-align: middle;\n",
       "    }\n",
       "\n",
       "    .dataframe tbody tr th {\n",
       "        vertical-align: top;\n",
       "    }\n",
       "\n",
       "    .dataframe thead th {\n",
       "        text-align: right;\n",
       "    }\n",
       "</style>\n",
       "<table border=\"1\" class=\"dataframe\">\n",
       "  <thead>\n",
       "    <tr style=\"text-align: right;\">\n",
       "      <th></th>\n",
       "      <th>id</th>\n",
       "      <th>diagnosis</th>\n",
       "      <th>radius_mean</th>\n",
       "      <th>texture_mean</th>\n",
       "      <th>perimeter_mean</th>\n",
       "      <th>area_mean</th>\n",
       "      <th>smoothness_mean</th>\n",
       "      <th>compactness_mean</th>\n",
       "      <th>concavity_mean</th>\n",
       "      <th>concave points_mean</th>\n",
       "      <th>...</th>\n",
       "      <th>perimeter_worst</th>\n",
       "      <th>area_worst</th>\n",
       "      <th>smoothness_worst</th>\n",
       "      <th>compactness_worst</th>\n",
       "      <th>concavity_worst</th>\n",
       "      <th>concave points_worst</th>\n",
       "      <th>symmetry_worst</th>\n",
       "      <th>fractal_dimension_worst</th>\n",
       "      <th>gender</th>\n",
       "      <th>Bratio</th>\n",
       "    </tr>\n",
       "  </thead>\n",
       "  <tbody>\n",
       "    <tr>\n",
       "      <th>0</th>\n",
       "      <td>842517</td>\n",
       "      <td>M</td>\n",
       "      <td>20.57</td>\n",
       "      <td>17.77</td>\n",
       "      <td>132.9</td>\n",
       "      <td>1326</td>\n",
       "      <td>0.08474</td>\n",
       "      <td>0.07864</td>\n",
       "      <td>0.0869</td>\n",
       "      <td>0.07017</td>\n",
       "      <td>...</td>\n",
       "      <td>158.8</td>\n",
       "      <td>1956</td>\n",
       "      <td>0.1238</td>\n",
       "      <td>0.1866</td>\n",
       "      <td>0.2416</td>\n",
       "      <td>0.186</td>\n",
       "      <td>0.275</td>\n",
       "      <td>0.08902</td>\n",
       "      <td>F</td>\n",
       "      <td>0.065443</td>\n",
       "    </tr>\n",
       "    <tr>\n",
       "      <th>1</th>\n",
       "      <td>843786</td>\n",
       "      <td>M</td>\n",
       "      <td>12.45</td>\n",
       "      <td>15.7</td>\n",
       "      <td>82.57</td>\n",
       "      <td>477.1</td>\n",
       "      <td>0.1278</td>\n",
       "      <td>0.17</td>\n",
       "      <td>0.1578</td>\n",
       "      <td>0.08089</td>\n",
       "      <td>...</td>\n",
       "      <td>103.4</td>\n",
       "      <td>741.6</td>\n",
       "      <td>0.1791</td>\n",
       "      <td>0.5249</td>\n",
       "      <td>0.5355</td>\n",
       "      <td>0.1741</td>\n",
       "      <td>0.3985</td>\n",
       "      <td>0.12440</td>\n",
       "      <td>F</td>\n",
       "      <td>0.481372</td>\n",
       "    </tr>\n",
       "    <tr>\n",
       "      <th>2</th>\n",
       "      <td>84610002</td>\n",
       "      <td>M</td>\n",
       "      <td>15.78</td>\n",
       "      <td>17.89</td>\n",
       "      <td>103.6</td>\n",
       "      <td>781</td>\n",
       "      <td>0.0971</td>\n",
       "      <td>0.1292</td>\n",
       "      <td>0.09954</td>\n",
       "      <td>0.06606</td>\n",
       "      <td>...</td>\n",
       "      <td>136.5</td>\n",
       "      <td>1299</td>\n",
       "      <td>0.1396</td>\n",
       "      <td>0.5609</td>\n",
       "      <td>0.3965</td>\n",
       "      <td>0.181</td>\n",
       "      <td>0.3792</td>\n",
       "      <td>0.10480</td>\n",
       "      <td>F</td>\n",
       "      <td>0.789345</td>\n",
       "    </tr>\n",
       "    <tr>\n",
       "      <th>3</th>\n",
       "      <td>846381</td>\n",
       "      <td>M</td>\n",
       "      <td>15.85</td>\n",
       "      <td>23.95</td>\n",
       "      <td>103.7</td>\n",
       "      <td>782.7</td>\n",
       "      <td>0.08401</td>\n",
       "      <td>0.1002</td>\n",
       "      <td>0.09938</td>\n",
       "      <td>0.05364</td>\n",
       "      <td>...</td>\n",
       "      <td>112</td>\n",
       "      <td>876.5</td>\n",
       "      <td>0.1131</td>\n",
       "      <td>0.1924</td>\n",
       "      <td>0.2322</td>\n",
       "      <td>0.1119</td>\n",
       "      <td>0.2809</td>\n",
       "      <td>0.06287</td>\n",
       "      <td>F</td>\n",
       "      <td>0.532400</td>\n",
       "    </tr>\n",
       "    <tr>\n",
       "      <th>4</th>\n",
       "      <td>8510824</td>\n",
       "      <td>B</td>\n",
       "      <td>9.504</td>\n",
       "      <td>12.44</td>\n",
       "      <td>60.34</td>\n",
       "      <td>273.9</td>\n",
       "      <td>0.1024</td>\n",
       "      <td>0.06492</td>\n",
       "      <td>0.02956</td>\n",
       "      <td>0.02076</td>\n",
       "      <td>...</td>\n",
       "      <td>65.13</td>\n",
       "      <td>314.9</td>\n",
       "      <td>0.1324</td>\n",
       "      <td>0.1148</td>\n",
       "      <td>0.08867</td>\n",
       "      <td>0.06227</td>\n",
       "      <td>0.245</td>\n",
       "      <td>0.07773</td>\n",
       "      <td>F</td>\n",
       "      <td>0.475519</td>\n",
       "    </tr>\n",
       "  </tbody>\n",
       "</table>\n",
       "<p>5 rows × 34 columns</p>\n",
       "</div>"
      ],
      "text/plain": [
       "         id diagnosis radius_mean texture_mean perimeter_mean area_mean  \\\n",
       "0    842517         M       20.57        17.77          132.9      1326   \n",
       "1    843786         M       12.45         15.7          82.57     477.1   \n",
       "2  84610002         M       15.78        17.89          103.6       781   \n",
       "3    846381         M       15.85        23.95          103.7     782.7   \n",
       "4   8510824         B       9.504        12.44          60.34     273.9   \n",
       "\n",
       "  smoothness_mean compactness_mean concavity_mean concave points_mean  ...  \\\n",
       "0         0.08474          0.07864         0.0869             0.07017  ...   \n",
       "1          0.1278             0.17         0.1578             0.08089  ...   \n",
       "2          0.0971           0.1292        0.09954             0.06606  ...   \n",
       "3         0.08401           0.1002        0.09938             0.05364  ...   \n",
       "4          0.1024          0.06492        0.02956             0.02076  ...   \n",
       "\n",
       "  perimeter_worst area_worst smoothness_worst compactness_worst  \\\n",
       "0           158.8       1956           0.1238            0.1866   \n",
       "1           103.4      741.6           0.1791            0.5249   \n",
       "2           136.5       1299           0.1396            0.5609   \n",
       "3             112      876.5           0.1131            0.1924   \n",
       "4           65.13      314.9           0.1324            0.1148   \n",
       "\n",
       "  concavity_worst concave points_worst symmetry_worst fractal_dimension_worst  \\\n",
       "0          0.2416                0.186          0.275                 0.08902   \n",
       "1          0.5355               0.1741         0.3985                 0.12440   \n",
       "2          0.3965                0.181         0.3792                 0.10480   \n",
       "3          0.2322               0.1119         0.2809                 0.06287   \n",
       "4         0.08867              0.06227          0.245                 0.07773   \n",
       "\n",
       "  gender    Bratio  \n",
       "0      F  0.065443  \n",
       "1      F  0.481372  \n",
       "2      F  0.789345  \n",
       "3      F  0.532400  \n",
       "4      F  0.475519  \n",
       "\n",
       "[5 rows x 34 columns]"
      ]
     },
     "execution_count": 7,
     "metadata": {},
     "output_type": "execute_result"
    }
   ],
   "source": [
    "breast.head()"
   ]
  },
  {
   "cell_type": "code",
   "execution_count": 8,
   "metadata": {},
   "outputs": [
    {
     "name": "stdout",
     "output_type": "stream",
     "text": [
      "['radius_mean', 'texture_mean', 'perimeter_mean', 'area_mean', 'smoothness_mean', 'compactness_mean', 'concavity_mean', 'concave points_mean', 'symmetry_mean', 'fractal_dimension_mean', 'radius_se', 'texture_se', 'perimeter_se', 'area_se', 'smoothness_se', 'compactness_se', 'concavity_se', 'concave points_se', 'symmetry_se', 'fractal_dimension_se', 'radius_worst', 'texture_worst', 'perimeter_worst', 'area_worst', 'smoothness_worst', 'compactness_worst', 'concavity_worst', 'concave points_worst', 'symmetry_worst', 'fractal_dimension_worst', 'Bratio']\n"
     ]
    }
   ],
   "source": [
    "breast.dropna(inplace=True)\n",
    "breast.drop('gender',axis=1,inplace =True)\n",
    "column_list = list(breast.columns.values)\n",
    "column_list.remove('id')\n",
    "column_list.remove('diagnosis')\n",
    "print(column_list)\n",
    "for col in column_list:\n",
    "    breast[col] = pd.to_numeric(breast[col], downcast=\"float\")"
   ]
  },
  {
   "cell_type": "markdown",
   "metadata": {},
   "source": [
    "# General data quality issues:\n",
    "- Double Tabbed heading in a tab delimited file.\n",
    "- Gender column contains only female entries.\n",
    "- All columns contain mixed data types; strings and numbers.\n",
    "- Some values in columns are represented as a question mark.\n",
    "- Large outlier in smoothness_mean\n",
    "- Eleven entries contain only zeros for six features.\n",
    "- Skew class distribution, 50% more negative cases than positive."
   ]
  },
  {
   "cell_type": "markdown",
   "metadata": {},
   "source": [
    "## 2\n"
   ]
  },
  {
   "cell_type": "markdown",
   "metadata": {},
   "source": [
    "a)\n",
    "## Issues addressed to enable analysis:\n",
    "- Double tabbed heading fixed and csv succesfully read into pandas.without doing this the data was impossible to manipulate.\n",
    "- cast mixed data types to float except for id and diagnosis. Mixed data types are difficult to work with in terms of visulizations etc.\n",
    "- drop gender feature since all entries are female. Does not provide any information.\n",
    "- replaced all question marks with NaN and then dropped any rows containing NaN. This takes the datset from 569 entries to 457 entries. Question marks are not valid inputs for our modelling process.\n",
    "\n",
    "## Issues found in analysis\n",
    "- Extreme large outlier in smoothness_mean, only one such outlier. Remove since it only affects a single row\n",
    "- 6 Features containing 11 zeros:\n",
    "\"\\[concavity_mean , concave points_mean , concabity_se ,\n",
    "concave_points_se , concavity_worst , concave points_worst]\"\n",
    "Wont be changing these entries since the features are all very low valued."
   ]
  },
  {
   "cell_type": "markdown",
   "metadata": {},
   "source": [
    "## b)\n",
    "### any other transform:\n",
    "Remove ID since it is unique for every entry"
   ]
  },
  {
   "cell_type": "markdown",
   "metadata": {},
   "source": [
    "Carry out the fixes onto the individual train and test sets.\n",
    "Previously only implemented on the two sets combined."
   ]
  },
  {
   "cell_type": "code",
   "execution_count": 9,
   "metadata": {},
   "outputs": [],
   "source": [
    "for df in [breast_test,breast_train]:    \n",
    "    df.replace('?',value = np.nan,inplace=True)\n",
    "    df.dropna(inplace=True)\n",
    "    df.drop('gender',axis=1,inplace =True)\n",
    "    column_list = list(df.columns.values)\n",
    "    column_list.remove('id')\n",
    "    column_list.remove('diagnosis')\n",
    "    for col in column_list:\n",
    "        df[col] = pd.to_numeric(df[col], downcast=\"float\")"
   ]
  },
  {
   "cell_type": "markdown",
   "metadata": {},
   "source": [
    "c)"
   ]
  },
  {
   "cell_type": "code",
   "execution_count": 10,
   "metadata": {},
   "outputs": [
    {
     "data": {
      "text/html": [
       "<div>\n",
       "<style scoped>\n",
       "    .dataframe tbody tr th:only-of-type {\n",
       "        vertical-align: middle;\n",
       "    }\n",
       "\n",
       "    .dataframe tbody tr th {\n",
       "        vertical-align: top;\n",
       "    }\n",
       "\n",
       "    .dataframe thead th {\n",
       "        text-align: right;\n",
       "    }\n",
       "</style>\n",
       "<table border=\"1\" class=\"dataframe\">\n",
       "  <thead>\n",
       "    <tr style=\"text-align: right;\">\n",
       "      <th></th>\n",
       "      <th>radius_mean</th>\n",
       "      <th>texture_mean</th>\n",
       "      <th>perimeter_mean</th>\n",
       "      <th>area_mean</th>\n",
       "      <th>smoothness_mean</th>\n",
       "      <th>compactness_mean</th>\n",
       "      <th>concavity_mean</th>\n",
       "      <th>concave points_mean</th>\n",
       "      <th>symmetry_mean</th>\n",
       "      <th>fractal_dimension_mean</th>\n",
       "      <th>...</th>\n",
       "      <th>texture_worst</th>\n",
       "      <th>perimeter_worst</th>\n",
       "      <th>area_worst</th>\n",
       "      <th>smoothness_worst</th>\n",
       "      <th>compactness_worst</th>\n",
       "      <th>concavity_worst</th>\n",
       "      <th>concave points_worst</th>\n",
       "      <th>symmetry_worst</th>\n",
       "      <th>fractal_dimension_worst</th>\n",
       "      <th>Bratio</th>\n",
       "    </tr>\n",
       "  </thead>\n",
       "  <tbody>\n",
       "    <tr>\n",
       "      <th>0</th>\n",
       "      <td>17.990000</td>\n",
       "      <td>10.380000</td>\n",
       "      <td>122.800003</td>\n",
       "      <td>1001.000000</td>\n",
       "      <td>0.11840</td>\n",
       "      <td>0.27760</td>\n",
       "      <td>0.30010</td>\n",
       "      <td>0.14710</td>\n",
       "      <td>0.2419</td>\n",
       "      <td>0.07871</td>\n",
       "      <td>...</td>\n",
       "      <td>17.330000</td>\n",
       "      <td>184.600006</td>\n",
       "      <td>2019.000000</td>\n",
       "      <td>0.16220</td>\n",
       "      <td>0.66560</td>\n",
       "      <td>0.71190</td>\n",
       "      <td>0.26540</td>\n",
       "      <td>0.4601</td>\n",
       "      <td>0.11890</td>\n",
       "      <td>0.162878</td>\n",
       "    </tr>\n",
       "    <tr>\n",
       "      <th>1</th>\n",
       "      <td>19.690001</td>\n",
       "      <td>21.250000</td>\n",
       "      <td>130.000000</td>\n",
       "      <td>1203.000000</td>\n",
       "      <td>0.10960</td>\n",
       "      <td>0.15990</td>\n",
       "      <td>0.19740</td>\n",
       "      <td>0.12790</td>\n",
       "      <td>0.2069</td>\n",
       "      <td>0.05999</td>\n",
       "      <td>...</td>\n",
       "      <td>25.530001</td>\n",
       "      <td>152.500000</td>\n",
       "      <td>1709.000000</td>\n",
       "      <td>0.14440</td>\n",
       "      <td>0.42450</td>\n",
       "      <td>0.45040</td>\n",
       "      <td>0.24300</td>\n",
       "      <td>0.3613</td>\n",
       "      <td>0.08758</td>\n",
       "      <td>0.751106</td>\n",
       "    </tr>\n",
       "    <tr>\n",
       "      <th>2</th>\n",
       "      <td>11.420000</td>\n",
       "      <td>20.379999</td>\n",
       "      <td>77.580002</td>\n",
       "      <td>386.100006</td>\n",
       "      <td>0.14250</td>\n",
       "      <td>0.28390</td>\n",
       "      <td>0.24140</td>\n",
       "      <td>0.10520</td>\n",
       "      <td>0.2597</td>\n",
       "      <td>0.09744</td>\n",
       "      <td>...</td>\n",
       "      <td>26.500000</td>\n",
       "      <td>98.870003</td>\n",
       "      <td>567.700012</td>\n",
       "      <td>0.20980</td>\n",
       "      <td>0.86630</td>\n",
       "      <td>0.68690</td>\n",
       "      <td>0.25750</td>\n",
       "      <td>0.6638</td>\n",
       "      <td>0.17300</td>\n",
       "      <td>0.465537</td>\n",
       "    </tr>\n",
       "    <tr>\n",
       "      <th>3</th>\n",
       "      <td>20.290001</td>\n",
       "      <td>14.340000</td>\n",
       "      <td>135.100006</td>\n",
       "      <td>1297.000000</td>\n",
       "      <td>0.10030</td>\n",
       "      <td>0.13280</td>\n",
       "      <td>0.19800</td>\n",
       "      <td>0.10430</td>\n",
       "      <td>0.1809</td>\n",
       "      <td>0.05883</td>\n",
       "      <td>...</td>\n",
       "      <td>16.670000</td>\n",
       "      <td>152.199997</td>\n",
       "      <td>1575.000000</td>\n",
       "      <td>0.13740</td>\n",
       "      <td>0.20500</td>\n",
       "      <td>0.40000</td>\n",
       "      <td>0.16250</td>\n",
       "      <td>0.2364</td>\n",
       "      <td>0.07678</td>\n",
       "      <td>0.969993</td>\n",
       "    </tr>\n",
       "    <tr>\n",
       "      <th>5</th>\n",
       "      <td>13.710000</td>\n",
       "      <td>20.830000</td>\n",
       "      <td>90.199997</td>\n",
       "      <td>577.900024</td>\n",
       "      <td>0.11890</td>\n",
       "      <td>0.16450</td>\n",
       "      <td>0.09366</td>\n",
       "      <td>0.05985</td>\n",
       "      <td>0.2196</td>\n",
       "      <td>0.07451</td>\n",
       "      <td>...</td>\n",
       "      <td>28.139999</td>\n",
       "      <td>110.599998</td>\n",
       "      <td>897.000000</td>\n",
       "      <td>0.16540</td>\n",
       "      <td>0.36820</td>\n",
       "      <td>0.26780</td>\n",
       "      <td>0.15560</td>\n",
       "      <td>0.3196</td>\n",
       "      <td>0.11510</td>\n",
       "      <td>0.440695</td>\n",
       "    </tr>\n",
       "    <tr>\n",
       "      <th>...</th>\n",
       "      <td>...</td>\n",
       "      <td>...</td>\n",
       "      <td>...</td>\n",
       "      <td>...</td>\n",
       "      <td>...</td>\n",
       "      <td>...</td>\n",
       "      <td>...</td>\n",
       "      <td>...</td>\n",
       "      <td>...</td>\n",
       "      <td>...</td>\n",
       "      <td>...</td>\n",
       "      <td>...</td>\n",
       "      <td>...</td>\n",
       "      <td>...</td>\n",
       "      <td>...</td>\n",
       "      <td>...</td>\n",
       "      <td>...</td>\n",
       "      <td>...</td>\n",
       "      <td>...</td>\n",
       "      <td>...</td>\n",
       "      <td>...</td>\n",
       "    </tr>\n",
       "    <tr>\n",
       "      <th>379</th>\n",
       "      <td>9.333000</td>\n",
       "      <td>21.940001</td>\n",
       "      <td>59.009998</td>\n",
       "      <td>264.000000</td>\n",
       "      <td>0.09240</td>\n",
       "      <td>0.05605</td>\n",
       "      <td>0.03996</td>\n",
       "      <td>0.01282</td>\n",
       "      <td>0.1692</td>\n",
       "      <td>0.06576</td>\n",
       "      <td>...</td>\n",
       "      <td>25.049999</td>\n",
       "      <td>62.860001</td>\n",
       "      <td>295.799988</td>\n",
       "      <td>0.11030</td>\n",
       "      <td>0.08298</td>\n",
       "      <td>0.07993</td>\n",
       "      <td>0.02564</td>\n",
       "      <td>0.2435</td>\n",
       "      <td>0.07393</td>\n",
       "      <td>0.217251</td>\n",
       "    </tr>\n",
       "    <tr>\n",
       "      <th>385</th>\n",
       "      <td>11.200000</td>\n",
       "      <td>29.370001</td>\n",
       "      <td>70.669998</td>\n",
       "      <td>386.000000</td>\n",
       "      <td>0.07449</td>\n",
       "      <td>0.03558</td>\n",
       "      <td>0.00000</td>\n",
       "      <td>0.00000</td>\n",
       "      <td>0.1060</td>\n",
       "      <td>0.05502</td>\n",
       "      <td>...</td>\n",
       "      <td>38.299999</td>\n",
       "      <td>75.190002</td>\n",
       "      <td>439.600006</td>\n",
       "      <td>0.09267</td>\n",
       "      <td>0.05494</td>\n",
       "      <td>0.00000</td>\n",
       "      <td>0.00000</td>\n",
       "      <td>0.1566</td>\n",
       "      <td>0.05905</td>\n",
       "      <td>0.228154</td>\n",
       "    </tr>\n",
       "    <tr>\n",
       "      <th>386</th>\n",
       "      <td>15.220000</td>\n",
       "      <td>30.620001</td>\n",
       "      <td>103.400002</td>\n",
       "      <td>716.900024</td>\n",
       "      <td>0.10480</td>\n",
       "      <td>0.20870</td>\n",
       "      <td>0.25500</td>\n",
       "      <td>0.09429</td>\n",
       "      <td>0.2128</td>\n",
       "      <td>0.07152</td>\n",
       "      <td>...</td>\n",
       "      <td>42.790001</td>\n",
       "      <td>128.699997</td>\n",
       "      <td>915.000000</td>\n",
       "      <td>0.14170</td>\n",
       "      <td>0.79170</td>\n",
       "      <td>1.17000</td>\n",
       "      <td>0.23560</td>\n",
       "      <td>0.4089</td>\n",
       "      <td>0.14090</td>\n",
       "      <td>0.435295</td>\n",
       "    </tr>\n",
       "    <tr>\n",
       "      <th>387</th>\n",
       "      <td>20.129999</td>\n",
       "      <td>28.250000</td>\n",
       "      <td>131.199997</td>\n",
       "      <td>1261.000000</td>\n",
       "      <td>0.09780</td>\n",
       "      <td>0.10340</td>\n",
       "      <td>0.14400</td>\n",
       "      <td>0.09791</td>\n",
       "      <td>0.1752</td>\n",
       "      <td>0.05533</td>\n",
       "      <td>...</td>\n",
       "      <td>38.250000</td>\n",
       "      <td>155.000000</td>\n",
       "      <td>1731.000000</td>\n",
       "      <td>0.11660</td>\n",
       "      <td>0.19220</td>\n",
       "      <td>0.32150</td>\n",
       "      <td>0.16280</td>\n",
       "      <td>0.2572</td>\n",
       "      <td>0.06637</td>\n",
       "      <td>0.164469</td>\n",
       "    </tr>\n",
       "    <tr>\n",
       "      <th>388</th>\n",
       "      <td>16.600000</td>\n",
       "      <td>28.080000</td>\n",
       "      <td>108.300003</td>\n",
       "      <td>858.099976</td>\n",
       "      <td>0.08455</td>\n",
       "      <td>0.10230</td>\n",
       "      <td>0.09251</td>\n",
       "      <td>0.05302</td>\n",
       "      <td>0.1590</td>\n",
       "      <td>0.05648</td>\n",
       "      <td>...</td>\n",
       "      <td>34.119999</td>\n",
       "      <td>126.699997</td>\n",
       "      <td>1124.000000</td>\n",
       "      <td>0.11390</td>\n",
       "      <td>0.30940</td>\n",
       "      <td>0.34030</td>\n",
       "      <td>0.14180</td>\n",
       "      <td>0.2218</td>\n",
       "      <td>0.07820</td>\n",
       "      <td>0.097137</td>\n",
       "    </tr>\n",
       "  </tbody>\n",
       "</table>\n",
       "<p>294 rows × 31 columns</p>\n",
       "</div>"
      ],
      "text/plain": [
       "     radius_mean  texture_mean  perimeter_mean    area_mean  smoothness_mean  \\\n",
       "0      17.990000     10.380000      122.800003  1001.000000          0.11840   \n",
       "1      19.690001     21.250000      130.000000  1203.000000          0.10960   \n",
       "2      11.420000     20.379999       77.580002   386.100006          0.14250   \n",
       "3      20.290001     14.340000      135.100006  1297.000000          0.10030   \n",
       "5      13.710000     20.830000       90.199997   577.900024          0.11890   \n",
       "..           ...           ...             ...          ...              ...   \n",
       "379     9.333000     21.940001       59.009998   264.000000          0.09240   \n",
       "385    11.200000     29.370001       70.669998   386.000000          0.07449   \n",
       "386    15.220000     30.620001      103.400002   716.900024          0.10480   \n",
       "387    20.129999     28.250000      131.199997  1261.000000          0.09780   \n",
       "388    16.600000     28.080000      108.300003   858.099976          0.08455   \n",
       "\n",
       "     compactness_mean  concavity_mean  concave points_mean  symmetry_mean  \\\n",
       "0             0.27760         0.30010              0.14710         0.2419   \n",
       "1             0.15990         0.19740              0.12790         0.2069   \n",
       "2             0.28390         0.24140              0.10520         0.2597   \n",
       "3             0.13280         0.19800              0.10430         0.1809   \n",
       "5             0.16450         0.09366              0.05985         0.2196   \n",
       "..                ...             ...                  ...            ...   \n",
       "379           0.05605         0.03996              0.01282         0.1692   \n",
       "385           0.03558         0.00000              0.00000         0.1060   \n",
       "386           0.20870         0.25500              0.09429         0.2128   \n",
       "387           0.10340         0.14400              0.09791         0.1752   \n",
       "388           0.10230         0.09251              0.05302         0.1590   \n",
       "\n",
       "     fractal_dimension_mean  ...  texture_worst  perimeter_worst   area_worst  \\\n",
       "0                   0.07871  ...      17.330000       184.600006  2019.000000   \n",
       "1                   0.05999  ...      25.530001       152.500000  1709.000000   \n",
       "2                   0.09744  ...      26.500000        98.870003   567.700012   \n",
       "3                   0.05883  ...      16.670000       152.199997  1575.000000   \n",
       "5                   0.07451  ...      28.139999       110.599998   897.000000   \n",
       "..                      ...  ...            ...              ...          ...   \n",
       "379                 0.06576  ...      25.049999        62.860001   295.799988   \n",
       "385                 0.05502  ...      38.299999        75.190002   439.600006   \n",
       "386                 0.07152  ...      42.790001       128.699997   915.000000   \n",
       "387                 0.05533  ...      38.250000       155.000000  1731.000000   \n",
       "388                 0.05648  ...      34.119999       126.699997  1124.000000   \n",
       "\n",
       "     smoothness_worst  compactness_worst  concavity_worst  \\\n",
       "0             0.16220            0.66560          0.71190   \n",
       "1             0.14440            0.42450          0.45040   \n",
       "2             0.20980            0.86630          0.68690   \n",
       "3             0.13740            0.20500          0.40000   \n",
       "5             0.16540            0.36820          0.26780   \n",
       "..                ...                ...              ...   \n",
       "379           0.11030            0.08298          0.07993   \n",
       "385           0.09267            0.05494          0.00000   \n",
       "386           0.14170            0.79170          1.17000   \n",
       "387           0.11660            0.19220          0.32150   \n",
       "388           0.11390            0.30940          0.34030   \n",
       "\n",
       "     concave points_worst  symmetry_worst  fractal_dimension_worst    Bratio  \n",
       "0                 0.26540          0.4601                  0.11890  0.162878  \n",
       "1                 0.24300          0.3613                  0.08758  0.751106  \n",
       "2                 0.25750          0.6638                  0.17300  0.465537  \n",
       "3                 0.16250          0.2364                  0.07678  0.969993  \n",
       "5                 0.15560          0.3196                  0.11510  0.440695  \n",
       "..                    ...             ...                      ...       ...  \n",
       "379               0.02564          0.2435                  0.07393  0.217251  \n",
       "385               0.00000          0.1566                  0.05905  0.228154  \n",
       "386               0.23560          0.4089                  0.14090  0.435295  \n",
       "387               0.16280          0.2572                  0.06637  0.164469  \n",
       "388               0.14180          0.2218                  0.07820  0.097137  \n",
       "\n",
       "[294 rows x 31 columns]"
      ]
     },
     "execution_count": 10,
     "metadata": {},
     "output_type": "execute_result"
    }
   ],
   "source": [
    "X_test = breast_test[list(breast_test.columns[2:33])]\n",
    "X_train = breast_train[list(breast_train.columns[2:33])]\n",
    "X_train # check that we have the correct columns"
   ]
  },
  {
   "cell_type": "code",
   "execution_count": 11,
   "metadata": {},
   "outputs": [
    {
     "data": {
      "text/plain": [
       "0      0\n",
       "1      0\n",
       "2      0\n",
       "3      0\n",
       "5      0\n",
       "      ..\n",
       "379    1\n",
       "385    1\n",
       "386    0\n",
       "387    0\n",
       "388    0\n",
       "Name: diagnosis, Length: 294, dtype: int64"
      ]
     },
     "execution_count": 11,
     "metadata": {},
     "output_type": "execute_result"
    }
   ],
   "source": [
    "Y_test = breast_test[\"diagnosis\"]\n",
    "Y_train = breast_train[\"diagnosis\"]\n",
    "\n",
    "values = {'B':1, 'M':0}\n",
    "\n",
    "Y_test = Y_test.map(values)\n",
    "Y_train = Y_train.map(values)\n",
    "Y_train"
   ]
  },
  {
   "cell_type": "markdown",
   "metadata": {},
   "source": [
    "### Classification tree approach:\n",
    "\n",
    "A classification tree is trained to overfit on the training set. This is done by splitting the dataset further and further untill each subset is as homogeneous as possible i.e. contains only one class with each split attempting to maximize the homogeneity in the following subsets.\n",
    "\n",
    "The approach to finding optimal splits is a recursive one by which the function splits the set into subsets recursively untill they are homogeneous at which point the recursion ends."
   ]
  },
  {
   "cell_type": "code",
   "execution_count": 12,
   "metadata": {},
   "outputs": [
    {
     "name": "stdout",
     "output_type": "stream",
     "text": [
      "Accuracy score = 0.8834355828220859\n",
      "Precision score = 0.8838572402376083\n",
      "Recall =  0.8834355828220859\n"
     ]
    }
   ],
   "source": [
    "treeinst = tree.DecisionTreeClassifier(random_state=0)\n",
    "treeclf = treeinst.fit(X_train, Y_train)\n",
    "D_pred = treeclf.predict(X_test)\n",
    "print(\"Accuracy score =\",sklearn.metrics.accuracy_score(Y_test,D_pred))\n",
    "print(\"Precision score =\",sklearn.metrics.precision_score(Y_test,D_pred,average='weighted'))\n",
    "print(\"Recall = \",sklearn.metrics.recall_score(Y_test,D_pred,average='weighted'))"
   ]
  },
  {
   "cell_type": "code",
   "execution_count": 13,
   "metadata": {},
   "outputs": [
    {
     "data": {
      "text/plain": [
       "<sklearn.metrics._plot.confusion_matrix.ConfusionMatrixDisplay at 0x7fe143640fa0>"
      ]
     },
     "execution_count": 13,
     "metadata": {},
     "output_type": "execute_result"
    },
    {
     "data": {
      "image/png": "[encoded data removed]",
      "text/plain": [
       "<Figure size 432x288 with 2 Axes>"
      ]
     },
     "metadata": {
      "needs_background": "light"
     },
     "output_type": "display_data"
    }
   ],
   "source": [
    "sklearn.metrics.plot_confusion_matrix(treeclf,X_test,Y_test,display_labels=values) # TEST SET"
   ]
  },
  {
   "cell_type": "code",
   "execution_count": 14,
   "metadata": {},
   "outputs": [
    {
     "data": {
      "text/plain": [
       "<sklearn.metrics._plot.confusion_matrix.ConfusionMatrixDisplay at 0x7fe13efd1340>"
      ]
     },
     "execution_count": 14,
     "metadata": {},
     "output_type": "execute_result"
    },
    {
     "data": {
      "image/png": "[encoded data removed]",
      "text/plain": [
       "<Figure size 432x288 with 2 Axes>"
      ]
     },
     "metadata": {
      "needs_background": "light"
     },
     "output_type": "display_data"
    }
   ],
   "source": [
    "sklearn.metrics.plot_confusion_matrix(treeclf,X_train,Y_train,display_labels=values) # TRAIN SET"
   ]
  },
  {
   "cell_type": "markdown",
   "metadata": {},
   "source": [
    "Complete overfit on the training set"
   ]
  },
  {
   "cell_type": "markdown",
   "metadata": {},
   "source": [
    "d)"
   ]
  },
  {
   "cell_type": "markdown",
   "metadata": {},
   "source": [
    "### Post Pruning process used:\n",
    "Minimal cost-complexity pruning.\n",
    "\n",
    "Minimal cost complexity uses cost complexity defined as: $R_\\alpha(T) = R(T) + \\alpha|\\widetilde{T}|$  where T is a given tree and $\\tilde{T}$ being the number of terminal nodes.\n",
    "\n",
    "As the name implies this method aims to minimize the $R_\\alpha(T)$ of a tree. This is done by evaluating the cost complexity of a node and using the equation $\\alpha_{eff}(t)=\\frac{R(t)-R(T_t)}{|T|-1}$ to calculate $\\alpha_{eff}(t)$, a non terminal node with the lowest value for $\\alpha_{eff}(t)$ will be the weakest link and pruned. The pruning process continues untill the value for $\\alpha_{eff}(t)$ is greater than ccp_alpha\n"
   ]
  },
  {
   "cell_type": "code",
   "execution_count": 15,
   "metadata": {},
   "outputs": [],
   "source": [
    "path = treeclf.cost_complexity_pruning_path(X_train, Y_train)\n",
    "ccp_alphas, impurities = path.ccp_alphas, path.impurities"
   ]
  },
  {
   "cell_type": "code",
   "execution_count": 16,
   "metadata": {},
   "outputs": [],
   "source": [
    "clfs = []\n",
    "for ccp_alpha in ccp_alphas:\n",
    "    clf = DecisionTreeClassifier(random_state=0, ccp_alpha=ccp_alpha)\n",
    "    clf.fit(X_train, Y_train)\n",
    "    clfs.append(clf)"
   ]
  },
  {
   "cell_type": "code",
   "execution_count": 17,
   "metadata": {},
   "outputs": [],
   "source": [
    "clfs = clfs[:-1]\n",
    "ccp_alphas = ccp_alphas[:-1]"
   ]
  },
  {
   "cell_type": "code",
   "execution_count": 18,
   "metadata": {},
   "outputs": [
    {
     "data": {
      "image/png": "[encoded data removed]",
      "text/plain": [
       "<Figure size 432x288 with 1 Axes>"
      ]
     },
     "metadata": {
      "needs_background": "light"
     },
     "output_type": "display_data"
    }
   ],
   "source": [
    "train_scores = [clf.score(X_train, Y_train) for clf in clfs]\n",
    "test_scores = [clf.score(X_test, Y_test) for clf in clfs]\n",
    "\n",
    "fig, ax = plt.subplots()\n",
    "ax.set_xlabel(\"alpha\")\n",
    "ax.set_ylabel(\"accuracy\")\n",
    "ax.set_title(\"Accuracy vs alpha for training and testing sets\")\n",
    "ax.plot(ccp_alphas, train_scores, marker='o', label=\"train\",\n",
    "        drawstyle=\"steps-post\")\n",
    "ax.plot(ccp_alphas, test_scores, marker='o', label=\"test\",\n",
    "        drawstyle=\"steps-post\")\n",
    "ax.legend()\n",
    "plt.show()"
   ]
  },
  {
   "cell_type": "code",
   "execution_count": 19,
   "metadata": {},
   "outputs": [
    {
     "name": "stdout",
     "output_type": "stream",
     "text": [
      "[0.         0.00332701 0.00665951 0.01166181 0.01276977 0.06172553]\n"
     ]
    }
   ],
   "source": [
    "print(ccp_alphas)"
   ]
  },
  {
   "cell_type": "markdown",
   "metadata": {},
   "source": [
    "alpha = 0.0128 provides the best test accuracy"
   ]
  },
  {
   "cell_type": "code",
   "execution_count": 20,
   "metadata": {},
   "outputs": [
    {
     "name": "stdout",
     "output_type": "stream",
     "text": [
      "0.012769774214623466\n"
     ]
    }
   ],
   "source": [
    "ccp_alpha = ccp_alphas[4]\n",
    "print(ccp_alpha)"
   ]
  },
  {
   "cell_type": "code",
   "execution_count": 21,
   "metadata": {},
   "outputs": [
    {
     "name": "stdout",
     "output_type": "stream",
     "text": [
      "Accuracy score = 0.9202453987730062\n",
      "Precision score = 0.9201014229609425\n",
      "Recall =  0.9202453987730062\n"
     ]
    },
    {
     "data": {
      "text/plain": [
       "array([[54,  8],\n",
       "       [ 5, 96]])"
      ]
     },
     "execution_count": 21,
     "metadata": {},
     "output_type": "execute_result"
    }
   ],
   "source": [
    "treeinst = tree.DecisionTreeClassifier(random_state=0, ccp_alpha=ccp_alpha)\n",
    "treeclf = treeinst.fit(X_train, Y_train)\n",
    "D_pred = treeclf.predict(X_test)\n",
    "print(\"Accuracy score =\",sklearn.metrics.accuracy_score(Y_test,D_pred))\n",
    "print(\"Precision score =\",sklearn.metrics.precision_score(Y_test,D_pred,average='weighted'))\n",
    "print(\"Recall = \",sklearn.metrics.recall_score(Y_test,D_pred,average='weighted'))\n",
    "sklearn.metrics.confusion_matrix(Y_test,D_pred)"
   ]
  },
  {
   "cell_type": "code",
   "execution_count": 22,
   "metadata": {},
   "outputs": [
    {
     "data": {
      "text/plain": [
       "<sklearn.metrics._plot.confusion_matrix.ConfusionMatrixDisplay at 0x7fe143d3b280>"
      ]
     },
     "execution_count": 22,
     "metadata": {},
     "output_type": "execute_result"
    },
    {
     "data": {
      "image/png": "[encoded data removed]",
      "text/plain": [
       "<Figure size 432x288 with 2 Axes>"
      ]
     },
     "metadata": {
      "needs_background": "light"
     },
     "output_type": "display_data"
    }
   ],
   "source": [
    "sklearn.metrics.plot_confusion_matrix(treeclf,X_test,Y_test,display_labels=values) # TEST SET"
   ]
  },
  {
   "cell_type": "markdown",
   "metadata": {},
   "source": [
    "54/62= 87.1% accuracy for B\n",
    "\n",
    "96/101 = 95% accuracy for M"
   ]
  },
  {
   "cell_type": "code",
   "execution_count": 23,
   "metadata": {},
   "outputs": [
    {
     "data": {
      "text/plain": [
       "<sklearn.metrics._plot.confusion_matrix.ConfusionMatrixDisplay at 0x7fe143d41dc0>"
      ]
     },
     "execution_count": 23,
     "metadata": {},
     "output_type": "execute_result"
    },
    {
     "data": {
      "image/png": "[encoded data removed]",
      "text/plain": [
       "<Figure size 432x288 with 2 Axes>"
      ]
     },
     "metadata": {
      "needs_background": "light"
     },
     "output_type": "display_data"
    }
   ],
   "source": [
    "sklearn.metrics.plot_confusion_matrix(treeclf,X_train,Y_train,display_labels=values) # TRAIN SET"
   ]
  },
  {
   "cell_type": "markdown",
   "metadata": {},
   "source": [
    "e) \n",
    "Pruning helps provide a more accurate model by eliminating nodes that contribute the most to overfitting the training set, i.e. pruning eliminates the nodes that contain outliers. As a result of the pruning the tree becomes less overfitted and therefore a more generalized model which improves accuracy overall and on the testing set."
   ]
  },
  {
   "cell_type": "markdown",
   "metadata": {},
   "source": [
    "## 3) KNN "
   ]
  },
  {
   "cell_type": "markdown",
   "metadata": {},
   "source": [
    "### Data Quality issues:\n",
    "Many of the same as the Decision tree including:\n",
    "\n",
    "- Double tabbed heading fixed and csv succesfully read into pandas.without doing this the data was impossible to manipulate.\n",
    "- cast mixed data types to float except for id and diagnosis. Mixed data types are difficult to work with in terms of visulizations etc.\n",
    "- drop gender feature since all entries are female. Does not provide any information.\n",
    "- replaced all question marks with NaN and then dropped any rows containing NaN. This takes the datset from 569 entries to 457 entries. Question marks are not valid inputs for our modelling process.\n",
    "\n",
    "## Issues found in analysis\n",
    "- Extreme large outlier in smoothness_mean, only one such outlier. Remove since it only affects a single row\n",
    "- 6 Features containing 11 zeros:\n",
    "\"\\[concavity_mean , concave points_mean , concabity_se ,\n",
    "concave_points_se , concavity_worst , concave points_worst]\"\n",
    "Wont be changing these entries since the features are all very low valued and could be valid entries.\n",
    "- High noise in the data, will have to pick the right value for K to find a balance against robustness for noise and precision."
   ]
  },
  {
   "cell_type": "code",
   "execution_count": 24,
   "metadata": {},
   "outputs": [
    {
     "name": "stdout",
     "output_type": "stream",
     "text": [
      "K is = 5\n",
      "Accuracy score = 0.9263803680981595\n",
      "Precision score = 0.9275045664157526\n",
      "Recall =  0.9263803680981595\n"
     ]
    },
    {
     "data": {
      "text/plain": [
       "<sklearn.metrics._plot.confusion_matrix.ConfusionMatrixDisplay at 0x7fe147551850>"
      ]
     },
     "execution_count": 24,
     "metadata": {},
     "output_type": "execute_result"
    },
    {
     "data": {
      "image/png": "[encoded data removed]",
      "text/plain": [
       "<Figure size 432x288 with 2 Axes>"
      ]
     },
     "metadata": {
      "needs_background": "light"
     },
     "output_type": "display_data"
    }
   ],
   "source": [
    "k=5\n",
    "neigh = KNeighborsClassifier(n_neighbors=k)\n",
    "neigh.fit(X_train,Y_train)\n",
    "K_pred = neigh.predict(X_test)\n",
    "print(\"K is =\",k)\n",
    "print(\"Accuracy score =\",sklearn.metrics.accuracy_score(Y_test,K_pred))\n",
    "print(\"Precision score =\",sklearn.metrics.precision_score(Y_test,K_pred,average='weighted'))\n",
    "print(\"Recall = \",sklearn.metrics.recall_score(Y_test,K_pred,average='weighted'))\n",
    "sklearn.metrics.plot_confusion_matrix(neigh,X_test,Y_test,display_labels=values)"
   ]
  },
  {
   "cell_type": "markdown",
   "metadata": {},
   "source": [
    "53/62= 85.4% accuracy for B\n",
    "\n",
    "98/101 = 97% accuracy for M"
   ]
  },
  {
   "cell_type": "markdown",
   "metadata": {},
   "source": [
    "Given the setting with regards to breast cancer it is much more important to catch as many of the cases as possible of malignant tumors, having a few false alarms when misidentifying a benign tumor as malignant is worth it to have as few as possible malignant tumors slip through without identification. For this reason the KNN is the better solution as it has the better sensitivity to identifying malignant tumors while having around the same base accuracy score as the decision tree.\n",
    "Only 3% of the malignant cases were missed in the KNN method versus 5% for the decision tree."
   ]
  },
  {
   "cell_type": "code",
   "execution_count": null,
   "metadata": {},
   "outputs": [],
   "source": []
  }
 ],
 "metadata": {
  "kernelspec": {
   "display_name": "Python 3",
   "language": "python",
   "name": "python3"
  },
  "language_info": {
   "codemirror_mode": {
    "name": "ipython",
    "version": 3
   },
   "file_extension": ".py",
   "mimetype": "text/x-python",
   "name": "python",
   "nbconvert_exporter": "python",
   "pygments_lexer": "ipython3",
   "version": "3.8.5"
  }
 },
 "nbformat": 4,
 "nbformat_minor": 4
}

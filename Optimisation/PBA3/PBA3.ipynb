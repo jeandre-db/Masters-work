{
 "cells": [
  {
   "cell_type": "markdown",
   "metadata": {},
   "source": [
    "#### I only managed to do the low level PSO due to unforseen circumstances and time constraints. Hopefully the low level PSO presented still shows sufficient understanding of the work to be marked partially."
   ]
  },
  {
   "cell_type": "code",
   "execution_count": 1,
   "metadata": {},
   "outputs": [],
   "source": [
    "import numpy as np\n",
    "import random"
   ]
  },
  {
   "cell_type": "code",
   "execution_count": 2,
   "metadata": {},
   "outputs": [],
   "source": [
    "def objective(x,y):\n",
    "    ans = -(y+47)*np.sin(np.sqrt(np.abs(y+(x/2)+47)))-x*np.sin(np.sqrt(np.abs(x-(y+47))))\n",
    "    return ans\n",
    "\n",
    "def fitness(particle): #the fitness score is just the negative of the objective function (lower the obj funct the better)\n",
    "    x,y = particle.coords()\n",
    "    return (-objective(x,y))\n",
    "    \n",
    "\n",
    "class particle: #particle class containing postition and the ability to update or fetch its coordinates\n",
    "    \n",
    "    def __init__(self,x,y):\n",
    "        self.x = x\n",
    "        self.y = y\n",
    "        \n",
    "    def update(self,x,y):\n",
    "        self.x = x\n",
    "        self.y = y\n",
    "    \n",
    "    def coords(self):\n",
    "        return(self.x,self.y)\n",
    "    \n",
    "    def setbest(self,best):\n",
    "        self.best = best\n",
    "        \n",
    "    def returnbest(self):\n",
    "        return best"
   ]
  },
  {
   "cell_type": "code",
   "execution_count": 3,
   "metadata": {},
   "outputs": [
    {
     "name": "stdout",
     "output_type": "stream",
     "text": [
      "-959.6406627106155\n"
     ]
    }
   ],
   "source": [
    "print(objective(512,404.2319)) #test that the obj func correctly"
   ]
  },
  {
   "cell_type": "code",
   "execution_count": 4,
   "metadata": {},
   "outputs": [
    {
     "name": "stdout",
     "output_type": "stream",
     "text": [
      "959.6406627106155\n",
      "846.5692073973108\n"
     ]
    }
   ],
   "source": [
    "a = particle(512,404.2319)\n",
    "b = particle(500,400)\n",
    "print(fitness(a))\n",
    "print(fitness(b)) #testing that the given coords in the question are a good fitness score against a nearby area\n",
    "#therefore the coords are at least a local minima and trust that it is the global minima within the bounds"
   ]
  },
  {
   "cell_type": "code",
   "execution_count": 5,
   "metadata": {},
   "outputs": [],
   "source": [
    "class PSO:\n",
    "    \n",
    "    def __init__(self,particles,fitness,itermax,w,c1,c2,vel):\n",
    "        #Initilise and store all parameters such as w,c,r for use later\n",
    "        self.particles =  particles\n",
    "        self.fitness = fitness\n",
    "        self.itermax = itermax\n",
    "        self.w = w\n",
    "        self.c1 = c1\n",
    "        self.c2 = c2\n",
    "        self.vel = vel\n",
    "        \n",
    "        self.best = []\n",
    "        self.best_values = []\n",
    "        for i in range(len(self.particles)):\n",
    "            self.best.append(self.particles[i].coords())\n",
    "            self.best_values.append(self.fitness(self.particles[i])) \n",
    "        \n",
    "        self.globalbest = self.best[0]\n",
    "        self.globalbest_value = self.best_values[0]\n",
    "        self.iter = 0\n",
    "        self.run = True\n",
    "        print(\"starting best:\",self.globalbest)\n",
    "        self.best_memory = self.globalbest_value\n",
    "        self.best_tally=0\n",
    "        self.update()\n",
    "        \n",
    "    def step(self):\n",
    "        if self.iter>0: #dont move on step 0.\n",
    "            self.move() #Updates all particles positions (see method below)\n",
    "            self.update() #Updates the global and personal bests of the particles (if necessary)\n",
    "            if(self.globalbest_value>self.best_memory): #Testing if any improvement has been made\n",
    "                self.best_memory = self.globalbest_value\n",
    "                self.best_tally = 0\n",
    "            else:\n",
    "                self.best_tally+=1\n",
    "        self.iter +=1\n",
    "        \n",
    "        if(self.iter<self.itermax): #If within itermax keep going\n",
    "            self.run = True\n",
    "        elif(self.iter>=self.itermax): #stop conditions\n",
    "            self.run = False\n",
    "            print(\"run ended due to iter\")\n",
    "        if(self.best_tally>50):\n",
    "            self.run = False\n",
    "            print(\"run ended due to no new improvement\")\n",
    "        return self.run\n",
    "    \n",
    "    def move(self):\n",
    "        r1_list = np.random.random(len(self.particles))#list of len self.length of rand num 0-1\n",
    "        r2_list = np.random.random(len(self.particles))\n",
    "        for i,particle in enumerate(self.particles):\n",
    "            \n",
    "            x,y = particle.coords()\n",
    "            #Below we calculate the new x and y velocity components according to the equations using w,c,r etc\n",
    "            new_velx = self.w*self.vel[i][0] + self.c1*r1_list[i]*(self.best[i][0]-x)\n",
    "            new_velx += self.c2*r2_list[i]*(self.globalbest[0]-x)\n",
    "            new_vely = self.w*self.vel[i][1] + self.c1*r1_list[i]*(self.best[i][0]-y)\n",
    "            new_vely += self.c2*r2_list[i]*(self.globalbest[1]-y)\n",
    "            self.vel[i] = (new_velx,new_vely)\n",
    "            newx = x+new_velx\n",
    "            newy = y+new_vely\n",
    "            \n",
    "            if(newx>512): #Keeping wtihin the bounds\n",
    "                newx = 512\n",
    "            if(newx<-512):\n",
    "                newx = -512\n",
    "                \n",
    "            if(newy>512):\n",
    "                newy = 512\n",
    "            if(newy<-512):\n",
    "                newy = -512\n",
    "            \n",
    "            particle.update(newx,newy) #update the particle instance with its new location\n",
    "        \n",
    "    def update(self):\n",
    "        for i, (particle,bestvalue) in enumerate(zip(self.particles,self.best_values)): \n",
    "            #step through both the particles and the list of best fitness scores\n",
    "            currentfit = fitness(particle) #fitness of the current particle under consideration\n",
    "            if(currentfit>bestvalue): #check against personal best\n",
    "                bestvalue = currentfit\n",
    "                self.best[i] = particle.coords()\n",
    "                \n",
    "                if(currentfit>self.globalbest_value): #check against global best\n",
    "                    self.globalbest_value = currentfit\n",
    "                    self.globalbest = particle.coords()\n",
    "                    \n",
    "    def result(self): #some end messages\n",
    "        print(\"iter reached:\",self.iter)\n",
    "        print(\"coords:\",self.globalbest)\n",
    "        print(\"fitness\",self.globalbest_value)\n",
    "        return "
   ]
  },
  {
   "cell_type": "code",
   "execution_count": 6,
   "metadata": {},
   "outputs": [
    {
     "name": "stdout",
     "output_type": "stream",
     "text": [
      "starting best: (74, 281)\n",
      "run ended due to no new improvement\n",
      "iter reached: 68\n",
      "coords: (512, 404.21982984856396)\n",
      "fitness 959.6404997045429\n"
     ]
    }
   ],
   "source": [
    "num_particle = 50 #50 particlces low level pso\n",
    "particles = []\n",
    "velocities = []\n",
    "for i in range(num_particle): #initialise all particles coords and their velocities as random \n",
    "    randx = random.randrange(-512,512)\n",
    "    randy = random.randrange(-512,512)\n",
    "    velx = random.randrange(-20,20)\n",
    "    vely = random.randrange(-20,20)\n",
    "    vel = (velx,vely)\n",
    "    velocities.append(vel)\n",
    "    particles.append(particle(randx,randy))\n",
    "\n",
    "pso = PSO(particles,fitness,itermax=20000,w=0.9,c1=0.5,c2=1.5,vel=velocities) #initialise the PSO class\n",
    "run = True\n",
    "while(run): #run PSO\n",
    "    run = pso.step()\n",
    "pso.result() #Some stats\n",
    "\n"
   ]
  }
 ],
 "metadata": {
  "kernelspec": {
   "display_name": "Python 3 (ipykernel)",
   "language": "python",
   "name": "python3"
  },
  "language_info": {
   "codemirror_mode": {
    "name": "ipython",
    "version": 3
   },
   "file_extension": ".py",
   "mimetype": "text/x-python",
   "name": "python",
   "nbconvert_exporter": "python",
   "pygments_lexer": "ipython3",
   "version": "3.8.12"
  }
 },
 "nbformat": 4,
 "nbformat_minor": 4
}

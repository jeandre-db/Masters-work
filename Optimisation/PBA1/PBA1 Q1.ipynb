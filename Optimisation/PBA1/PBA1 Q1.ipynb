{
 "cells": [
  {
   "cell_type": "code",
   "execution_count": 1,
   "metadata": {},
   "outputs": [],
   "source": [
    "import numpy as np\n",
    "import itertools\n",
    "import copy"
   ]
  },
  {
   "cell_type": "code",
   "execution_count": 2,
   "metadata": {},
   "outputs": [],
   "source": [
    "values = {'s1':8,'s2':11,'s3':9,'s4':12,'s5':14,'s6':10,'s7':6,'s8':7,'s9':13}\n",
    "weights = {'s1':1,'s2':2,'s3':3,'s4':2,'s5':3,'s6':4,'s7':1,'s8':5,'s9':3}\n",
    "limit = 16"
   ]
  },
  {
   "cell_type": "code",
   "execution_count": 3,
   "metadata": {},
   "outputs": [],
   "source": [
    "n = 9\n",
    "combinations = [list(i) for i in itertools.product([0, 1], repeat=n)]"
   ]
  },
  {
   "cell_type": "code",
   "execution_count": 4,
   "metadata": {},
   "outputs": [],
   "source": [
    "initial1 = [0,1,1,1,0,0,1,1,1]\n",
    "initial2 = [0,1,0,1,0,0,0,1,0]"
   ]
  },
  {
   "cell_type": "code",
   "execution_count": 5,
   "metadata": {},
   "outputs": [],
   "source": [
    "def calc_weight(solution): #calculates the weight of the proposed solution\n",
    "    weight = 0\n",
    "    for count,bit in enumerate(solution):\n",
    "        i = count+1\n",
    "        weight = weight + solution[count]*weights[\"s\"+str(i)]\n",
    "    return weight\n",
    "\n",
    "def calc_value(solution): #calculates the value of the proposed solution\n",
    "    value = 0\n",
    "    for count,bit in enumerate(solution):\n",
    "        i = count+1\n",
    "        value = value + solution[count]*values[\"s\"+str(i)]\n",
    "    return value"
   ]
  },
  {
   "cell_type": "code",
   "execution_count": 6,
   "metadata": {},
   "outputs": [],
   "source": [
    "def Neighbourhood(current_solution): #generates the neighbourhood from the current proposed solution\n",
    "    possible_neighbours=[]\n",
    "    for count,bit in enumerate(current_solution):\n",
    "        new_neighbour = copy.copy(current_solution)\n",
    "        if(bit==1):\n",
    "            bit = 0\n",
    "        else: bit = 1\n",
    "        new_neighbour[count] = bit\n",
    "        possible_neighbours.append(new_neighbour)\n",
    "    return possible_neighbours"
   ]
  },
  {
   "cell_type": "code",
   "execution_count": 7,
   "metadata": {},
   "outputs": [],
   "source": [
    "def find_solution(initial):\n",
    "    weight = calc_weight(initial)\n",
    "    current_solution = initial\n",
    "    max_value = calc_value(current_solution)\n",
    "    print(\"current max\",max_value)\n",
    "    while(weight<16):\n",
    "        sol_list = []\n",
    "        for neighbour in Neighbourhood(current_solution): #creates a dictionary with the neighbourhood and\n",
    "                                                          #each of the potential solutions attributes\n",
    "            value = calc_value(neighbour)\n",
    "            weight = calc_weight(neighbour)\n",
    "            attributes = {\"vector\":neighbour,\"value\":value,\"weight\":weight}\n",
    "            sol_list.append(attributes)\n",
    "        temp_max = max_value\n",
    "        temp_solution = current_solution\n",
    "        print(\"\\n\")\n",
    "        for entry in sol_list: #check the validty of each neighbourhood solution and decide if it is a new best\n",
    "            print(\"\\n\",entry['vector'])\n",
    "            print(\"considering weight:\",entry['weight'],\"and value:\",entry['value'],end = '')\n",
    "            if(entry['value']>temp_max and entry['weight']<=16):\n",
    "                print(\" NEW BEST\",end = '')\n",
    "                temp_solution = entry['vector']\n",
    "                temp_max = entry['value']\n",
    "        if(temp_max>max_value):\n",
    "            current_solution = temp_solution\n",
    "            max_value = temp_max\n",
    "            \n",
    "            \n",
    "        elif(temp_max<=max_value):\n",
    "            print(\"\\n No new solution found\")\n",
    "            break\n",
    "    return current_solution    \n",
    "    \n",
    "    "
   ]
  },
  {
   "cell_type": "code",
   "execution_count": 8,
   "metadata": {},
   "outputs": [
    {
     "name": "stdout",
     "output_type": "stream",
     "text": [
      "current max 30\n",
      "\n",
      "\n",
      "\n",
      " [1, 1, 0, 1, 0, 0, 0, 1, 0]\n",
      "considering weight: 10 and value: 38 NEW BEST\n",
      " [0, 0, 0, 1, 0, 0, 0, 1, 0]\n",
      "considering weight: 7 and value: 19\n",
      " [0, 1, 1, 1, 0, 0, 0, 1, 0]\n",
      "considering weight: 12 and value: 39 NEW BEST\n",
      " [0, 1, 0, 0, 0, 0, 0, 1, 0]\n",
      "considering weight: 7 and value: 18\n",
      " [0, 1, 0, 1, 1, 0, 0, 1, 0]\n",
      "considering weight: 12 and value: 44 NEW BEST\n",
      " [0, 1, 0, 1, 0, 1, 0, 1, 0]\n",
      "considering weight: 13 and value: 40\n",
      " [0, 1, 0, 1, 0, 0, 1, 1, 0]\n",
      "considering weight: 10 and value: 36\n",
      " [0, 1, 0, 1, 0, 0, 0, 0, 0]\n",
      "considering weight: 4 and value: 23\n",
      " [0, 1, 0, 1, 0, 0, 0, 1, 1]\n",
      "considering weight: 12 and value: 43\n",
      "\n",
      "\n",
      " [1, 1, 0, 1, 1, 0, 0, 1, 0]\n",
      "considering weight: 13 and value: 52 NEW BEST\n",
      " [0, 0, 0, 1, 1, 0, 0, 1, 0]\n",
      "considering weight: 10 and value: 33\n",
      " [0, 1, 1, 1, 1, 0, 0, 1, 0]\n",
      "considering weight: 15 and value: 53 NEW BEST\n",
      " [0, 1, 0, 0, 1, 0, 0, 1, 0]\n",
      "considering weight: 10 and value: 32\n",
      " [0, 1, 0, 1, 0, 0, 0, 1, 0]\n",
      "considering weight: 9 and value: 30\n",
      " [0, 1, 0, 1, 1, 1, 0, 1, 0]\n",
      "considering weight: 16 and value: 54 NEW BEST\n",
      " [0, 1, 0, 1, 1, 0, 1, 1, 0]\n",
      "considering weight: 13 and value: 50\n",
      " [0, 1, 0, 1, 1, 0, 0, 0, 0]\n",
      "considering weight: 7 and value: 37\n",
      " [0, 1, 0, 1, 1, 0, 0, 1, 1]\n",
      "considering weight: 15 and value: 57 NEW BEST\n",
      "\n",
      "\n",
      " [1, 1, 0, 1, 1, 0, 0, 1, 1]\n",
      "considering weight: 16 and value: 65 NEW BEST\n",
      " [0, 0, 0, 1, 1, 0, 0, 1, 1]\n",
      "considering weight: 13 and value: 46\n",
      " [0, 1, 1, 1, 1, 0, 0, 1, 1]\n",
      "considering weight: 18 and value: 66\n",
      " [0, 1, 0, 0, 1, 0, 0, 1, 1]\n",
      "considering weight: 13 and value: 45\n",
      " [0, 1, 0, 1, 0, 0, 0, 1, 1]\n",
      "considering weight: 12 and value: 43\n",
      " [0, 1, 0, 1, 1, 1, 0, 1, 1]\n",
      "considering weight: 19 and value: 67\n",
      " [0, 1, 0, 1, 1, 0, 1, 1, 1]\n",
      "considering weight: 16 and value: 63\n",
      " [0, 1, 0, 1, 1, 0, 0, 0, 1]\n",
      "considering weight: 10 and value: 50\n",
      " [0, 1, 0, 1, 1, 0, 0, 1, 0]\n",
      "considering weight: 12 and value: 44\n",
      "\n",
      "\n",
      " [0, 1, 0, 1, 1, 0, 0, 1, 1]\n",
      "considering weight: 15 and value: 57\n",
      " [1, 0, 0, 1, 1, 0, 0, 1, 1]\n",
      "considering weight: 14 and value: 54\n",
      " [1, 1, 1, 1, 1, 0, 0, 1, 1]\n",
      "considering weight: 19 and value: 74\n",
      " [1, 1, 0, 0, 1, 0, 0, 1, 1]\n",
      "considering weight: 14 and value: 53\n",
      " [1, 1, 0, 1, 0, 0, 0, 1, 1]\n",
      "considering weight: 13 and value: 51\n",
      " [1, 1, 0, 1, 1, 1, 0, 1, 1]\n",
      "considering weight: 20 and value: 75\n",
      " [1, 1, 0, 1, 1, 0, 1, 1, 1]\n",
      "considering weight: 17 and value: 71\n",
      " [1, 1, 0, 1, 1, 0, 0, 0, 1]\n",
      "considering weight: 11 and value: 58\n",
      " [1, 1, 0, 1, 1, 0, 0, 1, 0]\n",
      "considering weight: 13 and value: 52\n",
      " No new solution found\n",
      "\n",
      "\n",
      "starting= [0, 1, 0, 1, 0, 0, 0, 1, 0]\n",
      "value: 30\n",
      "weight: 9\n",
      "final= [1, 1, 0, 1, 1, 0, 0, 1, 1]\n",
      "value: 65\n",
      "weight: 16\n"
     ]
    }
   ],
   "source": [
    "answer = find_solution(initial2) #The run for initial2\n",
    "print(\"\\n\")\n",
    "print(\"starting=\",initial2)\n",
    "print(\"value:\",calc_value(initial2))\n",
    "print(\"weight:\",calc_weight(initial2))\n",
    "\n",
    "\n",
    "print(\"final=\",answer)\n",
    "print(\"value:\",calc_value(answer))\n",
    "print(\"weight:\",calc_weight(answer))"
   ]
  },
  {
   "cell_type": "code",
   "execution_count": 9,
   "metadata": {},
   "outputs": [
    {
     "name": "stdout",
     "output_type": "stream",
     "text": [
      "current max 58\n",
      "\n",
      "\n",
      "starting= [0, 1, 1, 1, 0, 0, 1, 1, 1]\n",
      "value: 58\n",
      "weight: 16\n",
      "final= [0, 1, 1, 1, 0, 0, 1, 1, 1]\n",
      "value: 58\n",
      "weight: 16\n"
     ]
    }
   ],
   "source": [
    "answer = find_solution(initial1)\n",
    "print(\"\\n\")\n",
    "print(\"starting=\",initial1)\n",
    "print(\"value:\",calc_value(initial1))\n",
    "print(\"weight:\",calc_weight(initial1))\n",
    "\n",
    "\n",
    "print(\"final=\",answer)\n",
    "print(\"value:\",calc_value(answer))\n",
    "print(\"weight:\",calc_weight(answer))"
   ]
  },
  {
   "cell_type": "code",
   "execution_count": null,
   "metadata": {},
   "outputs": [],
   "source": []
  },
  {
   "cell_type": "code",
   "execution_count": null,
   "metadata": {},
   "outputs": [],
   "source": []
  }
 ],
 "metadata": {
  "kernelspec": {
   "display_name": "Python 3",
   "language": "python",
   "name": "python3"
  },
  "language_info": {
   "codemirror_mode": {
    "name": "ipython",
    "version": 3
   },
   "file_extension": ".py",
   "mimetype": "text/x-python",
   "name": "python",
   "nbconvert_exporter": "python",
   "pygments_lexer": "ipython3",
   "version": "3.8.5"
  }
 },
 "nbformat": 4,
 "nbformat_minor": 4
}

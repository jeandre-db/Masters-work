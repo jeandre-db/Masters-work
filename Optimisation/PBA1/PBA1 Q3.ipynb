{
 "cells": [
  {
   "cell_type": "code",
   "execution_count": 1,
   "metadata": {},
   "outputs": [],
   "source": [
    "#Question 3a"
   ]
  },
  {
   "cell_type": "code",
   "execution_count": 2,
   "metadata": {},
   "outputs": [],
   "source": [
    "import numpy as np\n",
    "import itertools\n",
    "import copy\n",
    "import random"
   ]
  },
  {
   "cell_type": "code",
   "execution_count": 3,
   "metadata": {},
   "outputs": [],
   "source": [
    "values = {'s1':8,'s2':11,'s3':9,'s4':12,'s5':14,'s6':10,'s7':6,'s8':7,'s9':13}\n",
    "weights = {'s1':1,'s2':2,'s3':3,'s4':2,'s5':3,'s6':4,'s7':1,'s8':5,'s9':3}\n",
    "limit = 16"
   ]
  },
  {
   "cell_type": "code",
   "execution_count": 4,
   "metadata": {},
   "outputs": [],
   "source": [
    "n = 9\n",
    "combinations = [list(i) for i in itertools.product([0, 1], repeat=n)]#all possible combinations"
   ]
  },
  {
   "cell_type": "code",
   "execution_count": 5,
   "metadata": {},
   "outputs": [],
   "source": [
    "initial3 = [0,0,0,0,0,0,0,0,0]"
   ]
  },
  {
   "cell_type": "code",
   "execution_count": 6,
   "metadata": {},
   "outputs": [],
   "source": [
    "def calc_weight(solution):\n",
    "    weight = 0\n",
    "    for count,bit in enumerate(solution):\n",
    "        i = count+1\n",
    "        weight = weight + solution[count]*weights[\"s\"+str(i)]\n",
    "    return weight\n",
    "\n",
    "def calc_value(solution):\n",
    "    value = 0\n",
    "    for count,bit in enumerate(solution):\n",
    "        i = count+1\n",
    "        value = value + solution[count]*values[\"s\"+str(i)]\n",
    "    return value"
   ]
  },
  {
   "cell_type": "code",
   "execution_count": 7,
   "metadata": {},
   "outputs": [],
   "source": [
    "def Neighbourhood(current_solution):\n",
    "    possible_neighbours=[]\n",
    "    for count,bit in enumerate(current_solution):\n",
    "        new_neighbour = copy.copy(current_solution)\n",
    "        if(bit==1):\n",
    "            bit = 0\n",
    "        else: bit = 1\n",
    "        new_neighbour[count] = bit\n",
    "        possible_neighbours.append(new_neighbour)\n",
    "    return possible_neighbours"
   ]
  },
  {
   "cell_type": "code",
   "execution_count": 8,
   "metadata": {},
   "outputs": [
    {
     "name": "stdout",
     "output_type": "stream",
     "text": [
      "[[1, 0, 0, 0, 0, 0, 0, 0, 0], [0, 1, 0, 0, 0, 0, 0, 0, 0], [0, 0, 1, 0, 0, 0, 0, 0, 0], [0, 0, 0, 1, 0, 0, 0, 0, 0], [0, 0, 0, 0, 1, 0, 0, 0, 0], [0, 0, 0, 0, 0, 1, 0, 0, 0], [0, 0, 0, 0, 0, 0, 1, 0, 0], [0, 0, 0, 0, 0, 0, 0, 1, 0], [0, 0, 0, 0, 0, 0, 0, 0, 1]]\n"
     ]
    }
   ],
   "source": [
    "print(Neighbourhood(initial3))"
   ]
  },
  {
   "cell_type": "code",
   "execution_count": 9,
   "metadata": {},
   "outputs": [],
   "source": [
    "def random_walk(initial):\n",
    "    walk_count = 0\n",
    "    landscape = []\n",
    "    current_solution = initial\n",
    "    while(walk_count<100):\n",
    "        walk_count+=1\n",
    "        weight = calc_weight(initial)\n",
    "        max_value = calc_value(current_solution)\n",
    "        sol_list = []\n",
    "        for neighbour in Neighbourhood(current_solution):\n",
    "            value = calc_value(neighbour)\n",
    "            weight = calc_weight(neighbour)\n",
    "            attributes = {\"vector\":neighbour,\"value\":value,\"weight\":weight}\n",
    "            sol_list.append(attributes)\n",
    "        temp_max = max_value\n",
    "        temp_solution = current_solution\n",
    "        #print(\"\\n\")\n",
    "        test = random.choice(sol_list)\n",
    "        if(test['weight']>16):\n",
    "            test = random.choice(sol_list)\n",
    "        landscape.append(test['value'])\n",
    "        current_solution = test['vector']\n",
    "        \n",
    "    return landscape    \n",
    "    \n",
    "    "
   ]
  },
  {
   "cell_type": "code",
   "execution_count": 10,
   "metadata": {},
   "outputs": [],
   "source": [
    "walk = random_walk(initial3)"
   ]
  },
  {
   "cell_type": "code",
   "execution_count": 11,
   "metadata": {},
   "outputs": [
    {
     "name": "stdout",
     "output_type": "stream",
     "text": [
      "[10, 0, 8, 20, 34, 45, 51, 64, 56, 42, 36, 45, 55, 43, 55, 46, 34, 43, 33, 39, 46, 35, 26, 34, 27, 39, 26, 18, 31, 18, 31, 18, 28, 41, 50, 38, 46, 33, 45, 58, 48, 35, 27, 41, 49, 35, 49, 56, 50, 41, 47, 35, 29, 38, 30, 21, 29, 22, 29, 40, 26, 39, 31, 20, 31, 20, 30, 23, 13, 0, 12, 19, 33, 39, 32, 26, 34, 41, 33, 46, 39, 27, 13, 24, 34, 43, 49, 61, 69, 56, 44, 38, 30, 21, 29, 43, 55, 47, 54, 43]\n"
     ]
    }
   ],
   "source": [
    "print(walk)"
   ]
  },
  {
   "cell_type": "code",
   "execution_count": 12,
   "metadata": {},
   "outputs": [
    {
     "name": "stdout",
     "output_type": "stream",
     "text": [
      "r(1)= 33025.10571874999\n"
     ]
    }
   ],
   "source": [
    "var = np.var(walk) #variance\n",
    "m=len(walk)\n",
    "d = 1\n",
    "m_d = m-d\n",
    "r = ((1/(m_d)*var))\n",
    "ave = sum(walk)/len(walk)\n",
    "result = 0\n",
    "for count,entry in enumerate(walk[:-d]):\n",
    "    result += (entry-ave)*(walk[count]-ave)\n",
    "r = r*result\n",
    "print(\"r(1)=\",r)"
   ]
  },
  {
   "cell_type": "code",
   "execution_count": 13,
   "metadata": {},
   "outputs": [
    {
     "name": "stdout",
     "output_type": "stream",
     "text": [
      "xi: 0.010678602784559484\n"
     ]
    }
   ],
   "source": [
    "L = 1/(np.log(r))\n",
    "#now to normalise\n",
    "#Diam(G) = the max distance between [0,0,0,0,0,1,0,1,0] and [1,1,1,1,1,0,1,0,1] which corresponds\n",
    "#to weight 15 (this is max moves without exceeding weight limit). This is 9 moves. Remove the two and add the rest.   \n",
    "epsilon = L/9\n",
    "print(\"xi:\",epsilon)\n",
    "    "
   ]
  },
  {
   "cell_type": "code",
   "execution_count": 14,
   "metadata": {},
   "outputs": [
    {
     "data": {
      "text/plain": [
       "36"
      ]
     },
     "execution_count": 14,
     "metadata": {},
     "output_type": "execute_result"
    }
   ],
   "source": [
    "#Question 3b\n",
    "U = []\n",
    "for entry in Neighbourhood(initial3):\n",
    "    for pos in Neighbourhood(entry):\n",
    "        if(pos.count(1)==2):\n",
    "            U.append(pos)\n",
    "U = list(set(tuple(i)for i in U)) #removing any duplicates from process of making U\n",
    "U = list(list(i)for i in U)\n",
    "#for sanity sake here is the length of U\n",
    "len(U)\n",
    "    "
   ]
  },
  {
   "cell_type": "code",
   "execution_count": 15,
   "metadata": {},
   "outputs": [],
   "source": [
    "def find_solution(initial):\n",
    "    iteration = -1\n",
    "    weight = calc_weight(initial)\n",
    "    current_solution = initial\n",
    "    max_value = calc_value(current_solution)\n",
    "    print(\"Starting point = \\t  \",initial,\"value = \",max_value)\n",
    "    while(weight<16):\n",
    "        iteration+=1\n",
    "        sol_list = []\n",
    "        for neighbour in Neighbourhood(current_solution): #creates a dictionary with the neighbourhood and\n",
    "                                                           #each of the potential solutions attributes\n",
    "            value = calc_value(neighbour)\n",
    "            weight = calc_weight(neighbour)\n",
    "            attributes = {\"vector\":neighbour,\"value\":value,\"weight\":weight}\n",
    "            sol_list.append(attributes)\n",
    "        temp_max = max_value\n",
    "        temp_solution = current_solution\n",
    "        for entry in sol_list: #check the validty of each neighbourhood solution and decide if it is a new best\n",
    "            if(entry['value']>temp_max and entry['weight']<=16):\n",
    "                temp_solution = entry['vector']\n",
    "                temp_max = entry['value']\n",
    "        if(temp_max>max_value):\n",
    "            current_solution = temp_solution\n",
    "            max_value = temp_max\n",
    "            \n",
    "            \n",
    "        elif(temp_max<=max_value):\n",
    "            #print(\"\\n No new solution found\")\n",
    "            break\n",
    "    return current_solution,iteration,max_value"
   ]
  },
  {
   "cell_type": "code",
   "execution_count": 16,
   "metadata": {},
   "outputs": [
    {
     "name": "stdout",
     "output_type": "stream",
     "text": [
      "Starting point = \t   [0, 1, 0, 0, 0, 0, 0, 1, 0] value =  18\n",
      "took 4 to find solution =  [1, 1, 0, 1, 1, 0, 0, 1, 1] value =  65 \n",
      "\n",
      "Starting point = \t   [0, 0, 0, 0, 0, 1, 0, 1, 0] value =  17\n",
      "took 3 to find solution =  [1, 0, 0, 0, 1, 1, 0, 1, 1] value =  52 \n",
      "\n",
      "Starting point = \t   [1, 0, 0, 0, 1, 0, 0, 0, 0] value =  22\n",
      "took 5 to find solution =  [1, 1, 0, 1, 1, 1, 1, 0, 1] value =  74 \n",
      "\n",
      "Starting point = \t   [0, 0, 1, 0, 1, 0, 0, 0, 0] value =  23\n",
      "took 5 to find solution =  [1, 1, 1, 1, 1, 0, 1, 0, 1] value =  73 \n",
      "\n",
      "Starting point = \t   [1, 0, 1, 0, 0, 0, 0, 0, 0] value =  17\n",
      "took 5 to find solution =  [1, 1, 1, 1, 1, 0, 1, 0, 1] value =  73 \n",
      "\n",
      "Starting point = \t   [1, 0, 0, 0, 0, 0, 0, 1, 0] value =  15\n",
      "took 4 to find solution =  [1, 1, 0, 1, 1, 0, 0, 1, 1] value =  65 \n",
      "\n",
      "Starting point = \t   [0, 1, 0, 0, 0, 0, 1, 0, 0] value =  17\n",
      "took 5 to find solution =  [1, 1, 0, 1, 1, 1, 1, 0, 1] value =  74 \n",
      "\n",
      "Starting point = \t   [0, 0, 0, 0, 0, 1, 0, 0, 1] value =  23\n",
      "took 5 to find solution =  [1, 1, 0, 1, 1, 1, 1, 0, 1] value =  74 \n",
      "\n",
      "Starting point = \t   [1, 0, 0, 0, 0, 0, 0, 0, 1] value =  21\n",
      "took 5 to find solution =  [1, 1, 0, 1, 1, 1, 1, 0, 1] value =  74 \n",
      "\n",
      "Starting point = \t   [0, 0, 0, 0, 0, 0, 1, 1, 0] value =  13\n",
      "took 4 to find solution =  [0, 1, 0, 1, 1, 0, 1, 1, 1] value =  63 \n",
      "\n",
      "Starting point = \t   [0, 0, 1, 0, 0, 1, 0, 0, 0] value =  19\n",
      "took 4 to find solution =  [1, 0, 1, 1, 1, 1, 0, 0, 1] value =  66 \n",
      "\n",
      "Starting point = \t   [0, 1, 0, 0, 0, 0, 0, 0, 1] value =  24\n",
      "took 5 to find solution =  [1, 1, 0, 1, 1, 1, 1, 0, 1] value =  74 \n",
      "\n",
      "Starting point = \t   [0, 0, 0, 0, 1, 1, 0, 0, 0] value =  24\n",
      "took 5 to find solution =  [1, 1, 0, 1, 1, 1, 1, 0, 1] value =  74 \n",
      "\n",
      "Starting point = \t   [0, 0, 0, 0, 0, 1, 1, 0, 0] value =  16\n",
      "took 5 to find solution =  [1, 1, 0, 1, 1, 1, 1, 0, 1] value =  74 \n",
      "\n",
      "Starting point = \t   [1, 0, 0, 0, 0, 0, 1, 0, 0] value =  14\n",
      "took 5 to find solution =  [1, 1, 0, 1, 1, 1, 1, 0, 1] value =  74 \n",
      "\n",
      "Starting point = \t   [0, 1, 0, 0, 0, 1, 0, 0, 0] value =  21\n",
      "took 5 to find solution =  [1, 1, 0, 1, 1, 1, 1, 0, 1] value =  74 \n",
      "\n",
      "Starting point = \t   [0, 0, 0, 1, 0, 0, 1, 0, 0] value =  18\n",
      "took 5 to find solution =  [1, 1, 0, 1, 1, 1, 1, 0, 1] value =  74 \n",
      "\n",
      "Starting point = \t   [0, 0, 0, 0, 0, 0, 1, 0, 1] value =  19\n",
      "took 5 to find solution =  [1, 1, 0, 1, 1, 1, 1, 0, 1] value =  74 \n",
      "\n",
      "Starting point = \t   [1, 0, 0, 1, 0, 0, 0, 0, 0] value =  20\n",
      "took 5 to find solution =  [1, 1, 0, 1, 1, 1, 1, 0, 1] value =  74 \n",
      "\n",
      "Starting point = \t   [0, 0, 1, 0, 0, 0, 0, 1, 0] value =  16\n",
      "took 3 to find solution =  [0, 0, 1, 1, 1, 0, 0, 1, 1] value =  55 \n",
      "\n",
      "Starting point = \t   [0, 0, 0, 0, 1, 0, 0, 1, 0] value =  21\n",
      "took 4 to find solution =  [1, 1, 0, 1, 1, 0, 0, 1, 1] value =  65 \n",
      "\n",
      "Starting point = \t   [0, 0, 0, 1, 0, 0, 0, 0, 1] value =  25\n",
      "took 5 to find solution =  [1, 1, 0, 1, 1, 1, 1, 0, 1] value =  74 \n",
      "\n",
      "Starting point = \t   [0, 0, 0, 1, 0, 0, 0, 1, 0] value =  19\n",
      "took 4 to find solution =  [1, 1, 0, 1, 1, 0, 0, 1, 1] value =  65 \n",
      "\n",
      "Starting point = \t   [1, 0, 0, 0, 0, 1, 0, 0, 0] value =  18\n",
      "took 5 to find solution =  [1, 1, 0, 1, 1, 1, 1, 0, 1] value =  74 \n",
      "\n",
      "Starting point = \t   [0, 0, 0, 0, 1, 0, 1, 0, 0] value =  20\n",
      "took 5 to find solution =  [1, 1, 0, 1, 1, 1, 1, 0, 1] value =  74 \n",
      "\n",
      "Starting point = \t   [0, 0, 1, 0, 0, 0, 1, 0, 0] value =  15\n",
      "took 5 to find solution =  [1, 1, 1, 1, 1, 0, 1, 0, 1] value =  73 \n",
      "\n",
      "Starting point = \t   [0, 0, 0, 0, 1, 0, 0, 0, 1] value =  27\n",
      "took 5 to find solution =  [1, 1, 0, 1, 1, 1, 1, 0, 1] value =  74 \n",
      "\n",
      "Starting point = \t   [0, 0, 1, 0, 0, 0, 0, 0, 1] value =  22\n",
      "took 5 to find solution =  [1, 1, 1, 1, 1, 0, 1, 0, 1] value =  73 \n",
      "\n",
      "Starting point = \t   [0, 1, 0, 1, 0, 0, 0, 0, 0] value =  23\n",
      "took 5 to find solution =  [1, 1, 0, 1, 1, 1, 1, 0, 1] value =  74 \n",
      "\n",
      "Starting point = \t   [0, 0, 1, 1, 0, 0, 0, 0, 0] value =  21\n",
      "took 5 to find solution =  [1, 1, 1, 1, 1, 0, 1, 0, 1] value =  73 \n",
      "\n",
      "Starting point = \t   [0, 1, 1, 0, 0, 0, 0, 0, 0] value =  20\n",
      "took 5 to find solution =  [1, 1, 1, 1, 1, 0, 1, 0, 1] value =  73 \n",
      "\n",
      "Starting point = \t   [0, 0, 0, 1, 1, 0, 0, 0, 0] value =  26\n",
      "took 5 to find solution =  [1, 1, 0, 1, 1, 1, 1, 0, 1] value =  74 \n",
      "\n",
      "Starting point = \t   [0, 1, 0, 0, 1, 0, 0, 0, 0] value =  25\n",
      "took 5 to find solution =  [1, 1, 0, 1, 1, 1, 1, 0, 1] value =  74 \n",
      "\n",
      "Starting point = \t   [1, 1, 0, 0, 0, 0, 0, 0, 0] value =  19\n",
      "took 5 to find solution =  [1, 1, 0, 1, 1, 1, 1, 0, 1] value =  74 \n",
      "\n",
      "Starting point = \t   [0, 0, 0, 0, 0, 0, 0, 1, 1] value =  20\n",
      "took 4 to find solution =  [1, 1, 0, 1, 1, 0, 0, 1, 1] value =  65 \n",
      "\n",
      "Starting point = \t   [0, 0, 0, 1, 0, 1, 0, 0, 0] value =  22\n",
      "took 5 to find solution =  [1, 1, 0, 1, 1, 1, 1, 0, 1] value =  74 \n",
      "\n"
     ]
    }
   ],
   "source": [
    "lengths = []\n",
    "solutions = []\n",
    "for initial in U:\n",
    "    sol,it,value = find_solution(initial)\n",
    "    print(\"took\",it,\"to find solution = \",sol,\"value = \",value,\"\\n\")\n",
    "    lengths.append(it)\n",
    "    solutions.append(sol)\n"
   ]
  },
  {
   "cell_type": "code",
   "execution_count": 17,
   "metadata": {},
   "outputs": [
    {
     "name": "stdout",
     "output_type": "stream",
     "text": [
      "LLM(U)= 4.694444444444445\n"
     ]
    }
   ],
   "source": [
    "print(\"LLM(U)=\",(sum(lengths)/len(lengths)))"
   ]
  },
  {
   "cell_type": "code",
   "execution_count": 18,
   "metadata": {},
   "outputs": [
    {
     "name": "stdout",
     "output_type": "stream",
     "text": [
      "7\n"
     ]
    },
    {
     "data": {
      "text/plain": [
       "[[1, 1, 1, 1, 1, 0, 1, 0, 1],\n",
       " [1, 1, 0, 1, 1, 0, 0, 1, 1],\n",
       " [0, 0, 1, 1, 1, 0, 0, 1, 1],\n",
       " [1, 0, 1, 1, 1, 1, 0, 0, 1],\n",
       " [1, 0, 0, 0, 1, 1, 0, 1, 1],\n",
       " [1, 1, 0, 1, 1, 1, 1, 0, 1],\n",
       " [0, 1, 0, 1, 1, 0, 1, 1, 1]]"
      ]
     },
     "execution_count": 18,
     "metadata": {},
     "output_type": "execute_result"
    }
   ],
   "source": [
    "#Question 3c\n",
    "#Assuming the mathematical definition of a set as mentioned in the question where all elements must be unique.\n",
    "#making sure there are no duplicates in the set O.\n",
    "O = list(set(tuple(i)for i in solutions)) #removing any duplicates from process of making O\n",
    "O = list(list(i)for i in O)\n",
    "#for sanity sake here is the length of O\n",
    "print(len(O))\n",
    "O"
   ]
  },
  {
   "cell_type": "code",
   "execution_count": 19,
   "metadata": {},
   "outputs": [],
   "source": [
    "def Amp(P):\n",
    "    vals = [] #array containing all fitness values (value of knapsack for given solution set)\n",
    "    for element in P:\n",
    "        vals.append(calc_value(element))\n",
    "    \n",
    "    return (len(P)*(max(vals)-min(vals)))/sum(vals) #formula for Amp(P)"
   ]
  },
  {
   "cell_type": "code",
   "execution_count": 20,
   "metadata": {},
   "outputs": [
    {
     "data": {
      "text/plain": [
       "0.7"
      ]
     },
     "execution_count": 20,
     "metadata": {},
     "output_type": "execute_result"
    }
   ],
   "source": [
    "Amp(U)"
   ]
  },
  {
   "cell_type": "code",
   "execution_count": 21,
   "metadata": {},
   "outputs": [
    {
     "data": {
      "text/plain": [
       "0.34375"
      ]
     },
     "execution_count": 21,
     "metadata": {},
     "output_type": "execute_result"
    }
   ],
   "source": [
    "Amp(O)"
   ]
  },
  {
   "cell_type": "code",
   "execution_count": 22,
   "metadata": {},
   "outputs": [
    {
     "data": {
      "text/plain": [
       "0.5089285714285714"
      ]
     },
     "execution_count": 22,
     "metadata": {},
     "output_type": "execute_result"
    }
   ],
   "source": [
    "delta_amp = (Amp(U)-Amp(O))/Amp(U)\n",
    "delta_amp"
   ]
  },
  {
   "cell_type": "code",
   "execution_count": 23,
   "metadata": {},
   "outputs": [],
   "source": [
    "def Gap(P):\n",
    "    vals = []\n",
    "    for element in P:\n",
    "        vals.append(calc_value(element))\n",
    "    array = []\n",
    "    for val in vals:\n",
    "        array.append(val-max(vals))\n",
    "    return sum(array)/(len(P)*max(vals))\n",
    "    "
   ]
  },
  {
   "cell_type": "code",
   "execution_count": 24,
   "metadata": {},
   "outputs": [
    {
     "data": {
      "text/plain": [
       "-0.13513513513513514"
      ]
     },
     "execution_count": 24,
     "metadata": {},
     "output_type": "execute_result"
    }
   ],
   "source": [
    "Gap(O)"
   ]
  },
  {
   "cell_type": "markdown",
   "metadata": {},
   "source": [
    "With a small gap it is a relatively easy problem to solve, LLM =4.7 means that there is a short distance to find the correct\n",
    "solution. With such a low value for xi(normalised correlation length) the landscape is not flat or smooth and as such there are many local optima to get trapped in. Combined with a delta amp being not very high and therefore not a large difference between the best solution and the worst it can be concluded that while this is not a difficult problem, it is not the easiest. It would not be very hard to solve the problem."
   ]
  },
  {
   "cell_type": "code",
   "execution_count": null,
   "metadata": {},
   "outputs": [],
   "source": []
  }
 ],
 "metadata": {
  "kernelspec": {
   "display_name": "Python 3",
   "language": "python",
   "name": "python3"
  },
  "language_info": {
   "codemirror_mode": {
    "name": "ipython",
    "version": 3
   },
   "file_extension": ".py",
   "mimetype": "text/x-python",
   "name": "python",
   "nbconvert_exporter": "python",
   "pygments_lexer": "ipython3",
   "version": "3.8.5"
  }
 },
 "nbformat": 4,
 "nbformat_minor": 4
}

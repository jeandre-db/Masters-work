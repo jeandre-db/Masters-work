{
 "cells": [
  {
   "cell_type": "code",
   "execution_count": 1,
   "metadata": {},
   "outputs": [],
   "source": [
    "import numpy as np\n",
    "import copy\n",
    "import random\n",
    "import math\n",
    "import matplotlib.pyplot as plt\n",
    "from matplotlib.pyplot import figure"
   ]
  },
  {
   "cell_type": "code",
   "execution_count": 2,
   "metadata": {},
   "outputs": [],
   "source": [
    "# input parameters\n",
    "imax = 200\n",
    "cmax = 100\n",
    "dmax = 100\n",
    "alpha = 0.9 #cooling\n",
    "beta = 1.2 #reheating\n",
    "T = 0.01\n",
    "\n",
    "\n",
    "def f1(x):\n",
    "    return x**2 \n",
    "def f2(x:int):\n",
    "    return (x-2)**2\n",
    "\n",
    "def is_dominant(a,b):\n",
    "    if(f1(a)<f1(b) and f2(a)<f2(b)):\n",
    "        return True\n",
    "    else:\n",
    "        return False\n",
    "\n",
    "def energy(x,newx,archive): #in this case new x being x' as well as Ax_ being Ax'\n",
    "    A_ = calc_A_(x,newx,archive)\n",
    "    Ax = calc_Ax(A_,x)\n",
    "    Ax_ = calc_Ax_(A_,newx)\n",
    "    deltaE = (Ax_-Ax)/len(A_)\n",
    "    return deltaE\n",
    "    \n",
    "def calc_A_(x,newx,archive):\n",
    "    A_ = copy.copy(archive)\n",
    "    A_.append(x)\n",
    "    A_.append(newx)\n",
    "    return A_\n",
    "        \n",
    "def calc_Ax(A_,x):\n",
    "    num = 0\n",
    "    for i,element in enumerate(A_):\n",
    "        if is_dominant(element,x):\n",
    "            num+=1\n",
    "    return num\n",
    "    \n",
    "def calc_Ax_(A_,newx):\n",
    "    num = 0\n",
    "    for i,element in enumerate(A_):\n",
    "        if is_dominant(element,newx):\n",
    "            num+=1\n",
    "    return num\n",
    "    \n",
    "\n",
    "def generate_sol(x):\n",
    "    neighbour = random.uniform(-0.5,0.5)+x\n",
    "    return neighbour\n",
    "        \n",
    "def remove_dominated(archive,x):\n",
    "    for i,sol in enumerate(archive):\n",
    "        if(is_dominant(x,sol)):\n",
    "            #print(\"removing\")\n",
    "            archive.remove(sol)\n",
    "    return archive\n",
    "\n",
    "def calc_end(archive):\n",
    "    num=0\n",
    "    for i,element in enumerate(archive):\n",
    "        if(0<element<2):\n",
    "            num+=1\n",
    "    return num\n",
    "    \n",
    "r_min = -10**3\n",
    "r_max = 10**3"
   ]
  },
  {
   "cell_type": "code",
   "execution_count": 3,
   "metadata": {},
   "outputs": [
    {
     "name": "stdout",
     "output_type": "stream",
     "text": [
      "Starting point = -999\n",
      "eneough points in the front\n",
      "t reached =  8275\n"
     ]
    }
   ],
   "source": [
    "archive = []\n",
    "old_archive = []\n",
    "i=1\n",
    "c=0\n",
    "d=0\n",
    "t=1\n",
    "accepted = 0\n",
    "iterations = 9000\n",
    "#x = np.random.uniform(r_max,r_min)\n",
    "x= -999\n",
    "print(\"Starting point =\",x)\n",
    "archive.append(x)\n",
    "while(True):\n",
    "    if(i==imax): #step 1\n",
    "        print(\"Break out\")\n",
    "        break\n",
    "    \n",
    "    if(d==dmax): #step 2\n",
    "        #increase temp\n",
    "        #print(\"increase Temp\")\n",
    "        T = beta*T\n",
    "        i+=1\n",
    "        c=0\n",
    "        d=0\n",
    "        continue\n",
    "        \n",
    "    if(c==cmax): #step 3\n",
    "        #decrease temp\n",
    "        #print(\"decrease Temp\")\n",
    "        T = alpha*T\n",
    "        d=0\n",
    "        i+=1\n",
    "        c=0\n",
    "        continue\n",
    "        \n",
    "    newx = generate_sol(x) #newx = x' step 4\n",
    "    \n",
    "    rando = np.random.uniform(0,1) #step 5\n",
    "    Px = min(1,math.exp(-energy(x,newx,archive)/T))\n",
    "    if(rando>Px):\n",
    "        #print(\"reject\")\n",
    "        t+=1\n",
    "        d+=1\n",
    "        continue\n",
    "    \n",
    "    x=newx #step 6\n",
    "    c+=1 #step 7\n",
    "    \n",
    "    A_ = calc_A_(x,newx,archive) #step 8\n",
    "    num_dom = calc_Ax(A_,x)\n",
    "    if(num_dom==0):\n",
    "        accepted+=1\n",
    "        #print(\"num_dom=\",num_dom,\" appending\")\n",
    "        archive.append(x)\n",
    "        archive = remove_dominated(archive,x)\n",
    "        #print(\"length of arch=\",len(archive))\n",
    "    \n",
    "    if(calc_end(archive)>=100):\n",
    "        print(\"eneough points in the front\")\n",
    "        break\n",
    "\n",
    "    \n",
    "    t+=1 #step 9\n",
    "    \n",
    "print(\"t reached = \",t)"
   ]
  },
  {
   "cell_type": "markdown",
   "metadata": {},
   "source": [
    "## Paramter tuning\n",
    "\n",
    "-Starting temperature: High starting temp allows more acceptance of bad solutions. Changing the temperature between 0.1 and 10 had no meaningful effect on the number of iterations required to reach a final solution (always around 8000 when starting from a fixed point for testing purposes).\n",
    "\n",
    "-Epoch length: static epoch lengths only work well if set high enough and combined with other end criterion. Otherwise the wide starting range means that there can either be not enough epochs allowed before mapping the front appropriatley or far too many and computation time is wasted plotting thousands of points on the front.\n",
    "\n",
    "-Cooling and heating schedule: Linear and geometric did not make a meaningful difference on teh final amount of iterations required.\n",
    "\n",
    "-Search termination criterion: Previous was a static amount of iterations that are allowed, this was a hit or miss tactic depending on how many iterations were required. A better implementation was to calculate the amount of points that had already been mapped to the Pareto front and if that amount exceeded some threshold then the algortithm was terminated. This produced good results more consistently due to the fixed \"resoltuion\" with which the front is mapped. This also allows the resoltuion of the front to be tightly controlled."
   ]
  },
  {
   "cell_type": "code",
   "execution_count": 4,
   "metadata": {},
   "outputs": [
    {
     "data": {
      "text/plain": [
       "102"
      ]
     },
     "execution_count": 4,
     "metadata": {},
     "output_type": "execute_result"
    }
   ],
   "source": [
    "len(archive) #the amount of points found on the pareto front before end criterion reached"
   ]
  },
  {
   "cell_type": "code",
   "execution_count": 5,
   "metadata": {},
   "outputs": [],
   "source": [
    "x_axis = []\n",
    "y_axis = []\n",
    "for i, element in enumerate(archive):\n",
    "    x_axis.append(f1(element))\n",
    "    y_axis.append(f2(element))\n"
   ]
  },
  {
   "cell_type": "code",
   "execution_count": 6,
   "metadata": {},
   "outputs": [
    {
     "data": {
      "image/png": "[encoded data removed]",
      "text/plain": [
       "<Figure size 576x576 with 1 Axes>"
      ]
     },
     "metadata": {
      "needs_background": "light"
     },
     "output_type": "display_data"
    }
   ],
   "source": [
    "figure(figsize=(8,8))\n",
    "plt.plot(x_axis,y_axis,marker = 'o',alpha=0.5,ls=\"\")\n",
    "plt.grid()"
   ]
  },
  {
   "cell_type": "code",
   "execution_count": 7,
   "metadata": {},
   "outputs": [
    {
     "data": {
      "text/plain": [
       "102"
      ]
     },
     "execution_count": 7,
     "metadata": {},
     "output_type": "execute_result"
    }
   ],
   "source": [
    "len(archive)\n"
   ]
  },
  {
   "cell_type": "code",
   "execution_count": 8,
   "metadata": {},
   "outputs": [
    {
     "data": {
      "text/plain": [
       "[<matplotlib.lines.Line2D at 0x7fe10eb1f7f0>]"
      ]
     },
     "execution_count": 8,
     "metadata": {},
     "output_type": "execute_result"
    },
    {
     "data": {
      "image/png": "[encoded data removed]",
      "text/plain": [
       "<Figure size 432x288 with 1 Axes>"
      ]
     },
     "metadata": {
      "needs_background": "light"
     },
     "output_type": "display_data"
    }
   ],
   "source": [
    "plt.plot(archive,x_axis)\n",
    "#the pareto optimal set graphed with x^2"
   ]
  },
  {
   "cell_type": "code",
   "execution_count": 9,
   "metadata": {},
   "outputs": [
    {
     "data": {
      "text/plain": [
       "[<matplotlib.lines.Line2D at 0x7fe10ebe5790>]"
      ]
     },
     "execution_count": 9,
     "metadata": {},
     "output_type": "execute_result"
    },
    {
     "data": {
      "image/png": "[encoded data removed]",
      "text/plain": [
       "<Figure size 432x288 with 1 Axes>"
      ]
     },
     "metadata": {
      "needs_background": "light"
     },
     "output_type": "display_data"
    }
   ],
   "source": [
    "plt.plot(archive,y_axis)\n",
    "#the pareto optimal set graphed with (x-2)^2"
   ]
  },
  {
   "cell_type": "code",
   "execution_count": null,
   "metadata": {},
   "outputs": [],
   "source": []
  }
 ],
 "metadata": {
  "kernelspec": {
   "display_name": "Python 3 (ipykernel)",
   "language": "python",
   "name": "python3"
  },
  "language_info": {
   "codemirror_mode": {
    "name": "ipython",
    "version": 3
   },
   "file_extension": ".py",
   "mimetype": "text/x-python",
   "name": "python",
   "nbconvert_exporter": "python",
   "pygments_lexer": "ipython3",
   "version": "3.8.12"
  }
 },
 "nbformat": 4,
 "nbformat_minor": 4
}
